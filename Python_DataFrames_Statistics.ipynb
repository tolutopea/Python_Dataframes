{
  "nbformat": 4,
  "nbformat_minor": 0,
  "metadata": {
    "colab": {
      "name": "Python_DataFrames_Statistics",
      "provenance": [],
      "authorship_tag": "ABX9TyO01OPvjeLXEkisDHzsVvsq",
      "include_colab_link": true
    },
    "kernelspec": {
      "name": "python3",
      "display_name": "Python 3"
    }
  },
  "cells": [
    {
      "cell_type": "markdown",
      "metadata": {
        "id": "view-in-github",
        "colab_type": "text"
      },
      "source": [
        "<a href=\"https://colab.research.google.com/github/tolutopea/Python_Dataframes/blob/master/Python_DataFrames_Statistics.ipynb\" target=\"_parent\"><img src=\"https://colab.research.google.com/assets/colab-badge.svg\" alt=\"Open In Colab\"/></a>"
      ]
    },
    {
      "cell_type": "code",
      "metadata": {
        "id": "6SA5T1GwX5Gd",
        "colab_type": "code",
        "outputId": "754ff806-a400-4ca4-f79b-7bebf23e7469",
        "colab": {
          "base_uri": "https://localhost:8080/",
          "height": 70
        }
      },
      "source": [
        "from sqlalchemy import create_engine\n",
        "import pandas as pd\n",
        "from scipy import stats\n",
        "\n",
        "# Database credentials\n",
        "postgres_user = 'dabc_student'\n",
        "postgres_pw = '7*.8G9QH21'\n",
        "postgres_host = '142.93.121.174'\n",
        "postgres_port = '5432'\n",
        "postgres_db = 'kickstarterprojects'\n",
        "\n",
        "# use the credentials to start a connection\n",
        "engine = create_engine('postgresql://{}:{}@{}:{}/{}'.format(\n",
        "    postgres_user, postgres_pw, postgres_host, postgres_port, postgres_db))"
      ],
      "execution_count": 0,
      "outputs": [
        {
          "output_type": "stream",
          "text": [
            "/usr/local/lib/python3.6/dist-packages/psycopg2/__init__.py:144: UserWarning: The psycopg2 wheel package will be renamed from release 2.8; in order to keep installing from binary please use \"pip install psycopg2-binary\" instead. For details see: <http://initd.org/psycopg/docs/install.html#binary-install-from-pypi>.\n",
            "  \"\"\")\n"
          ],
          "name": "stderr"
        }
      ]
    },
    {
      "cell_type": "code",
      "metadata": {
        "id": "gVTYXid6aXlg",
        "colab_type": "code",
        "outputId": "b39bf598-7ed7-4ea4-a460-4e8dce464228",
        "colab": {
          "base_uri": "https://localhost:8080/",
          "height": 34
        }
      },
      "source": [
        "projects_df = pd.read_sql_table('ksprojects', con=engine)\n",
        "\n",
        "# remove the connection\n",
        "engine.dispose()\n",
        "projects_df.shape"
      ],
      "execution_count": 0,
      "outputs": [
        {
          "output_type": "execute_result",
          "data": {
            "text/plain": [
              "(65418, 13)"
            ]
          },
          "metadata": {
            "tags": []
          },
          "execution_count": 3
        }
      ]
    },
    {
      "cell_type": "code",
      "metadata": {
        "id": "IsTuIafQaifP",
        "colab_type": "code",
        "outputId": "4aeddec8-8a62-4ba7-94f3-43a98e69cfa3",
        "colab": {
          "base_uri": "https://localhost:8080/",
          "height": 534
        }
      },
      "source": [
        "projects_df.head()"
      ],
      "execution_count": 0,
      "outputs": [
        {
          "output_type": "execute_result",
          "data": {
            "text/html": [
              "<div>\n",
              "<style scoped>\n",
              "    .dataframe tbody tr th:only-of-type {\n",
              "        vertical-align: middle;\n",
              "    }\n",
              "\n",
              "    .dataframe tbody tr th {\n",
              "        vertical-align: top;\n",
              "    }\n",
              "\n",
              "    .dataframe thead th {\n",
              "        text-align: right;\n",
              "    }\n",
              "</style>\n",
              "<table border=\"1\" class=\"dataframe\">\n",
              "  <thead>\n",
              "    <tr style=\"text-align: right;\">\n",
              "      <th></th>\n",
              "      <th>id</th>\n",
              "      <th>name</th>\n",
              "      <th>category</th>\n",
              "      <th>main_category</th>\n",
              "      <th>deadline</th>\n",
              "      <th>goal</th>\n",
              "      <th>launched</th>\n",
              "      <th>state</th>\n",
              "      <th>backers</th>\n",
              "      <th>country</th>\n",
              "      <th>usd_pledged</th>\n",
              "      <th>currency</th>\n",
              "      <th>pledged</th>\n",
              "    </tr>\n",
              "  </thead>\n",
              "  <tbody>\n",
              "    <tr>\n",
              "      <th>0</th>\n",
              "      <td>1147015301</td>\n",
              "      <td>\"All We Had\" Gets Into Cannes -- $10 or More G...</td>\n",
              "      <td>Documentary</td>\n",
              "      <td>Film &amp; Video</td>\n",
              "      <td>2009-05-20 21:50:00</td>\n",
              "      <td>300.0</td>\n",
              "      <td>2009-04-30 22:10:30</td>\n",
              "      <td>failed</td>\n",
              "      <td>4</td>\n",
              "      <td>US</td>\n",
              "      <td>40.00</td>\n",
              "      <td>USD</td>\n",
              "      <td>40.00</td>\n",
              "    </tr>\n",
              "    <tr>\n",
              "      <th>1</th>\n",
              "      <td>1100844465</td>\n",
              "      <td>daily digest</td>\n",
              "      <td>Documentary</td>\n",
              "      <td>Film &amp; Video</td>\n",
              "      <td>2009-06-01 02:20:00</td>\n",
              "      <td>700.0</td>\n",
              "      <td>2009-05-04 21:14:28</td>\n",
              "      <td>successful</td>\n",
              "      <td>14</td>\n",
              "      <td>US</td>\n",
              "      <td>700.00</td>\n",
              "      <td>USD</td>\n",
              "      <td>700.00</td>\n",
              "    </tr>\n",
              "    <tr>\n",
              "      <th>2</th>\n",
              "      <td>1316334968</td>\n",
              "      <td>Drive A Faster Car 2.0</td>\n",
              "      <td>Nonfiction</td>\n",
              "      <td>Publishing</td>\n",
              "      <td>2009-06-04 06:00:00</td>\n",
              "      <td>1000.0</td>\n",
              "      <td>2009-05-04 22:51:31</td>\n",
              "      <td>successful</td>\n",
              "      <td>32</td>\n",
              "      <td>US</td>\n",
              "      <td>1367.00</td>\n",
              "      <td>USD</td>\n",
              "      <td>1367.00</td>\n",
              "    </tr>\n",
              "    <tr>\n",
              "      <th>3</th>\n",
              "      <td>1304906577</td>\n",
              "      <td>Accidental to Edinburgh - PHASE 1: AIRFARE</td>\n",
              "      <td>Theater</td>\n",
              "      <td>Theater</td>\n",
              "      <td>2009-06-05 05:59:00</td>\n",
              "      <td>6000.0</td>\n",
              "      <td>2009-04-30 22:22:43</td>\n",
              "      <td>successful</td>\n",
              "      <td>24</td>\n",
              "      <td>US</td>\n",
              "      <td>6575.00</td>\n",
              "      <td>USD</td>\n",
              "      <td>6575.00</td>\n",
              "    </tr>\n",
              "    <tr>\n",
              "      <th>4</th>\n",
              "      <td>1099226462</td>\n",
              "      <td>Logical Guess Pictures' 2nd Horror Movie!</td>\n",
              "      <td>Film &amp; Video</td>\n",
              "      <td>Film &amp; Video</td>\n",
              "      <td>2009-06-06 00:45:00</td>\n",
              "      <td>500.0</td>\n",
              "      <td>2009-04-30 01:32:55</td>\n",
              "      <td>successful</td>\n",
              "      <td>22</td>\n",
              "      <td>US</td>\n",
              "      <td>501.66</td>\n",
              "      <td>USD</td>\n",
              "      <td>501.66</td>\n",
              "    </tr>\n",
              "  </tbody>\n",
              "</table>\n",
              "</div>"
            ],
            "text/plain": [
              "           id  ...  pledged\n",
              "0  1147015301  ...    40.00\n",
              "1  1100844465  ...   700.00\n",
              "2  1316334968  ...  1367.00\n",
              "3  1304906577  ...  6575.00\n",
              "4  1099226462  ...   501.66\n",
              "\n",
              "[5 rows x 13 columns]"
            ]
          },
          "metadata": {
            "tags": []
          },
          "execution_count": 4
        }
      ]
    },
    {
      "cell_type": "code",
      "metadata": {
        "id": "-H48AJBMh8j3",
        "colab_type": "code",
        "outputId": "3b4b0eb4-4687-4bea-bb83-98c5558dc25d",
        "colab": {
          "base_uri": "https://localhost:8080/",
          "height": 34
        }
      },
      "source": [
        "# count the number of unique values in this column\n",
        "projects_df['category'].nunique()"
      ],
      "execution_count": 0,
      "outputs": [
        {
          "output_type": "execute_result",
          "data": {
            "text/plain": [
              "158"
            ]
          },
          "metadata": {
            "tags": []
          },
          "execution_count": 7
        }
      ]
    },
    {
      "cell_type": "code",
      "metadata": {
        "id": "BsTQ_H6JiIvZ",
        "colab_type": "code",
        "outputId": "e21b914f-4d12-44ba-b060-0ae52117ad7f",
        "colab": {
          "base_uri": "https://localhost:8080/",
          "height": 34
        }
      },
      "source": [
        "# Let's do the same for the main_category column.\n",
        "\n",
        "projects_df['main_category'].nunique()"
      ],
      "execution_count": 0,
      "outputs": [
        {
          "output_type": "execute_result",
          "data": {
            "text/plain": [
              "15"
            ]
          },
          "metadata": {
            "tags": []
          },
          "execution_count": 8
        }
      ]
    },
    {
      "cell_type": "code",
      "metadata": {
        "id": "aORFUzxQif71",
        "colab_type": "code",
        "outputId": "322d44c3-a785-486a-f9eb-db307ead89f4",
        "colab": {
          "base_uri": "https://localhost:8080/",
          "height": 286
        }
      },
      "source": [
        "main_category_counts = projects_df['main_category'].value_counts()\n",
        "main_category_counts"
      ],
      "execution_count": 0,
      "outputs": [
        {
          "output_type": "execute_result",
          "data": {
            "text/plain": [
              "Film & Video    11666\n",
              "Music            9395\n",
              "Publishing       6901\n",
              "Games            5739\n",
              "Technology       5328\n",
              "Art              4843\n",
              "Design           4798\n",
              "Food             4343\n",
              "Fashion          3700\n",
              "Theater          2015\n",
              "Photography      1933\n",
              "Comics           1791\n",
              "Crafts           1474\n",
              "Journalism        811\n",
              "Dance             681\n",
              "Name: main_category, dtype: int64"
            ]
          },
          "metadata": {
            "tags": []
          },
          "execution_count": 10
        }
      ]
    },
    {
      "cell_type": "code",
      "metadata": {
        "id": "2g251SuD4_1W",
        "colab_type": "code",
        "outputId": "96e91734-0167-4f7c-c59b-a72faa8f1ff0",
        "colab": {
          "base_uri": "https://localhost:8080/",
          "height": 202
        }
      },
      "source": [
        "category_counts = projects_df['category'].value_counts()\n",
        "category_counts.head(10)"
      ],
      "execution_count": 0,
      "outputs": [
        {
          "output_type": "execute_result",
          "data": {
            "text/plain": [
              "Product Design    3444\n",
              "Documentary       2969\n",
              "Music             2740\n",
              "Shorts            2407\n",
              "Tabletop Games    2208\n",
              "Food              2126\n",
              "Video Games       2011\n",
              "Film & Video      1828\n",
              "Fiction           1670\n",
              "Fashion           1584\n",
              "Name: category, dtype: int64"
            ]
          },
          "metadata": {
            "tags": []
          },
          "execution_count": 4
        }
      ]
    },
    {
      "cell_type": "code",
      "metadata": {
        "id": "zYHgc6Kw5JZP",
        "colab_type": "code",
        "outputId": "89e9a83e-81eb-4f6e-e965-8616f0251837",
        "colab": {
          "base_uri": "https://localhost:8080/",
          "height": 34
        }
      },
      "source": [
        "projects_df['main_category'].nunique()"
      ],
      "execution_count": 0,
      "outputs": [
        {
          "output_type": "execute_result",
          "data": {
            "text/plain": [
              "15"
            ]
          },
          "metadata": {
            "tags": []
          },
          "execution_count": 5
        }
      ]
    },
    {
      "cell_type": "code",
      "metadata": {
        "id": "vA5lYJ045NCs",
        "colab_type": "code",
        "outputId": "649ee5ba-f90d-4f53-d194-901cef159301",
        "colab": {
          "base_uri": "https://localhost:8080/",
          "height": 286
        }
      },
      "source": [
        "main_category_counts = projects_df['main_category'].value_counts()\n",
        "\n",
        "# there are only 15 main categories so print them all\n",
        "main_category_counts"
      ],
      "execution_count": 0,
      "outputs": [
        {
          "output_type": "execute_result",
          "data": {
            "text/plain": [
              "Film & Video    11666\n",
              "Music            9395\n",
              "Publishing       6901\n",
              "Games            5739\n",
              "Technology       5328\n",
              "Art              4843\n",
              "Design           4798\n",
              "Food             4343\n",
              "Fashion          3700\n",
              "Theater          2015\n",
              "Photography      1933\n",
              "Comics           1791\n",
              "Crafts           1474\n",
              "Journalism        811\n",
              "Dance             681\n",
              "Name: main_category, dtype: int64"
            ]
          },
          "metadata": {
            "tags": []
          },
          "execution_count": 6
        }
      ]
    },
    {
      "cell_type": "code",
      "metadata": {
        "id": "tFX77VGZ5UCE",
        "colab_type": "code",
        "outputId": "82a18d57-0284-46d6-94bc-9a883f407939",
        "colab": {
          "base_uri": "https://localhost:8080/",
          "height": 34
        }
      },
      "source": [
        "# how many countries\n",
        "projects_df['country'].nunique()"
      ],
      "execution_count": 0,
      "outputs": [
        {
          "output_type": "execute_result",
          "data": {
            "text/plain": [
              "22"
            ]
          },
          "metadata": {
            "tags": []
          },
          "execution_count": 7
        }
      ]
    },
    {
      "cell_type": "code",
      "metadata": {
        "id": "29_ymGkC5pG9",
        "colab_type": "code",
        "outputId": "73609b8d-6d4a-49de-97b1-a042f4ef0c8a",
        "colab": {
          "base_uri": "https://localhost:8080/",
          "height": 403
        }
      },
      "source": [
        "# how are the projects distributed over the countries\n",
        "country_counts = projects_df['country'].value_counts()\n",
        "country_counts"
      ],
      "execution_count": 0,
      "outputs": [
        {
          "output_type": "execute_result",
          "data": {
            "text/plain": [
              "US      52071\n",
              "GB       5617\n",
              "CA       2404\n",
              "AU       1258\n",
              "N,\"0      744\n",
              "DE        538\n",
              "NL        457\n",
              "FR        397\n",
              "IT        374\n",
              "ES        294\n",
              "SE        267\n",
              "NZ        236\n",
              "DK        157\n",
              "NO        120\n",
              "IE         99\n",
              "AT         98\n",
              "BE         90\n",
              "CH         88\n",
              "MX         43\n",
              "SG         29\n",
              "HK         26\n",
              "LU         11\n",
              "Name: country, dtype: int64"
            ]
          },
          "metadata": {
            "tags": []
          },
          "execution_count": 8
        }
      ]
    },
    {
      "cell_type": "code",
      "metadata": {
        "id": "dD2Vc2J95sej",
        "colab_type": "code",
        "outputId": "83c3ff76-6ec5-4930-b765-c0aa29f72549",
        "colab": {
          "base_uri": "https://localhost:8080/",
          "height": 817
        }
      },
      "source": [
        "null_rows = projects_df[projects_df.isnull().any(axis=1)]\n",
        "null_rows.head(10)"
      ],
      "execution_count": 0,
      "outputs": [
        {
          "output_type": "execute_result",
          "data": {
            "text/html": [
              "<div>\n",
              "<style scoped>\n",
              "    .dataframe tbody tr th:only-of-type {\n",
              "        vertical-align: middle;\n",
              "    }\n",
              "\n",
              "    .dataframe tbody tr th {\n",
              "        vertical-align: top;\n",
              "    }\n",
              "\n",
              "    .dataframe thead th {\n",
              "        text-align: right;\n",
              "    }\n",
              "</style>\n",
              "<table border=\"1\" class=\"dataframe\">\n",
              "  <thead>\n",
              "    <tr style=\"text-align: right;\">\n",
              "      <th></th>\n",
              "      <th>id</th>\n",
              "      <th>name</th>\n",
              "      <th>category</th>\n",
              "      <th>main_category</th>\n",
              "      <th>deadline</th>\n",
              "      <th>goal</th>\n",
              "      <th>launched</th>\n",
              "      <th>state</th>\n",
              "      <th>backers</th>\n",
              "      <th>country</th>\n",
              "      <th>usd_pledged</th>\n",
              "      <th>currency</th>\n",
              "      <th>pledged</th>\n",
              "    </tr>\n",
              "  </thead>\n",
              "  <tbody>\n",
              "    <tr>\n",
              "      <th>9490</th>\n",
              "      <td>1189637889</td>\n",
              "      <td>\"Natural Born Hooker\"</td>\n",
              "      <td>Theater</td>\n",
              "      <td>Theater</td>\n",
              "      <td>2012-04-24 08:59:00</td>\n",
              "      <td>25000.0</td>\n",
              "      <td>2012-03-14 19:05:44</td>\n",
              "      <td>undefined</td>\n",
              "      <td>0</td>\n",
              "      <td>N,\"0</td>\n",
              "      <td>NaN</td>\n",
              "      <td>USD</td>\n",
              "      <td>2621.00</td>\n",
              "    </tr>\n",
              "    <tr>\n",
              "      <th>15111</th>\n",
              "      <td>1244477824</td>\n",
              "      <td>Statpedia - The Collaborative Search Engine fo...</td>\n",
              "      <td>Software</td>\n",
              "      <td>Technology</td>\n",
              "      <td>2012-12-14 10:48:14</td>\n",
              "      <td>500.0</td>\n",
              "      <td>2012-11-14 10:48:14</td>\n",
              "      <td>undefined</td>\n",
              "      <td>0</td>\n",
              "      <td>N,\"0</td>\n",
              "      <td>NaN</td>\n",
              "      <td>USD</td>\n",
              "      <td>500.00</td>\n",
              "    </tr>\n",
              "    <tr>\n",
              "      <th>17484</th>\n",
              "      <td>1084993156</td>\n",
              "      <td>Willy Tea, Chris Doud and Chums: The Children'...</td>\n",
              "      <td>Music</td>\n",
              "      <td>Music</td>\n",
              "      <td>2013-04-09 06:06:11</td>\n",
              "      <td>3750.0</td>\n",
              "      <td>2013-03-26 05:06:11</td>\n",
              "      <td>successful</td>\n",
              "      <td>0</td>\n",
              "      <td>N,\"0</td>\n",
              "      <td>NaN</td>\n",
              "      <td>USD</td>\n",
              "      <td>4593.00</td>\n",
              "    </tr>\n",
              "    <tr>\n",
              "      <th>17532</th>\n",
              "      <td>1379649454</td>\n",
              "      <td>Juiette Z. Payne presents debut EP \"Eternal Da...</td>\n",
              "      <td>Music</td>\n",
              "      <td>Music</td>\n",
              "      <td>2013-04-11 15:50:25</td>\n",
              "      <td>5000.0</td>\n",
              "      <td>2013-03-02 15:50:25</td>\n",
              "      <td>successful</td>\n",
              "      <td>0</td>\n",
              "      <td>N,\"0</td>\n",
              "      <td>NaN</td>\n",
              "      <td>USD</td>\n",
              "      <td>5250.00</td>\n",
              "    </tr>\n",
              "    <tr>\n",
              "      <th>27334</th>\n",
              "      <td>1349042579</td>\n",
              "      <td>O'Films Production Launch!</td>\n",
              "      <td>Film &amp; Video</td>\n",
              "      <td>Film &amp; Video</td>\n",
              "      <td>2014-04-30 02:58:25</td>\n",
              "      <td>6000.0</td>\n",
              "      <td>2014-04-08 02:58:25</td>\n",
              "      <td>undefined</td>\n",
              "      <td>0</td>\n",
              "      <td>N,\"0</td>\n",
              "      <td>NaN</td>\n",
              "      <td>USD</td>\n",
              "      <td>6168.00</td>\n",
              "    </tr>\n",
              "    <tr>\n",
              "      <th>27443</th>\n",
              "      <td>1205956740</td>\n",
              "      <td>Short Film - \"The Man Who Choked\"</td>\n",
              "      <td>Film &amp; Video</td>\n",
              "      <td>Film &amp; Video</td>\n",
              "      <td>2014-05-02 12:47:00</td>\n",
              "      <td>1000.0</td>\n",
              "      <td>2014-04-16 13:21:21</td>\n",
              "      <td>undefined</td>\n",
              "      <td>0</td>\n",
              "      <td>N,\"0</td>\n",
              "      <td>NaN</td>\n",
              "      <td>GBP</td>\n",
              "      <td>1042.00</td>\n",
              "    </tr>\n",
              "    <tr>\n",
              "      <th>27522</th>\n",
              "      <td>1125500286</td>\n",
              "      <td>All About Amy</td>\n",
              "      <td>Film &amp; Video</td>\n",
              "      <td>Film &amp; Video</td>\n",
              "      <td>2014-05-04 17:41:13</td>\n",
              "      <td>3000.0</td>\n",
              "      <td>2014-04-04 17:41:13</td>\n",
              "      <td>undefined</td>\n",
              "      <td>0</td>\n",
              "      <td>N,\"0</td>\n",
              "      <td>NaN</td>\n",
              "      <td>USD</td>\n",
              "      <td>3225.00</td>\n",
              "    </tr>\n",
              "    <tr>\n",
              "      <th>27574</th>\n",
              "      <td>1292835145</td>\n",
              "      <td>WonderQuest ~ A Feature Length Music Film</td>\n",
              "      <td>Film &amp; Video</td>\n",
              "      <td>Film &amp; Video</td>\n",
              "      <td>2014-05-06 05:12:41</td>\n",
              "      <td>1111.0</td>\n",
              "      <td>2014-04-05 05:12:41</td>\n",
              "      <td>undefined</td>\n",
              "      <td>0</td>\n",
              "      <td>N,\"0</td>\n",
              "      <td>NaN</td>\n",
              "      <td>USD</td>\n",
              "      <td>3032.88</td>\n",
              "    </tr>\n",
              "    <tr>\n",
              "      <th>27602</th>\n",
              "      <td>1092574678</td>\n",
              "      <td>Pixelate Film Festival 2014</td>\n",
              "      <td>Film &amp; Video</td>\n",
              "      <td>Film &amp; Video</td>\n",
              "      <td>2014-05-07 13:37:16</td>\n",
              "      <td>1500.0</td>\n",
              "      <td>2014-04-09 13:37:16</td>\n",
              "      <td>undefined</td>\n",
              "      <td>0</td>\n",
              "      <td>N,\"0</td>\n",
              "      <td>NaN</td>\n",
              "      <td>GBP</td>\n",
              "      <td>1552.00</td>\n",
              "    </tr>\n",
              "    <tr>\n",
              "      <th>27755</th>\n",
              "      <td>1061706792</td>\n",
              "      <td>Zombie Shuffle feature film</td>\n",
              "      <td>Film &amp; Video</td>\n",
              "      <td>Film &amp; Video</td>\n",
              "      <td>2014-05-12 05:59:00</td>\n",
              "      <td>5000.0</td>\n",
              "      <td>2014-04-09 16:12:49</td>\n",
              "      <td>undefined</td>\n",
              "      <td>0</td>\n",
              "      <td>N,\"0</td>\n",
              "      <td>NaN</td>\n",
              "      <td>USD</td>\n",
              "      <td>5305.00</td>\n",
              "    </tr>\n",
              "  </tbody>\n",
              "</table>\n",
              "</div>"
            ],
            "text/plain": [
              "               id  ...  pledged\n",
              "9490   1189637889  ...  2621.00\n",
              "15111  1244477824  ...   500.00\n",
              "17484  1084993156  ...  4593.00\n",
              "17532  1379649454  ...  5250.00\n",
              "27334  1349042579  ...  6168.00\n",
              "27443  1205956740  ...  1042.00\n",
              "27522  1125500286  ...  3225.00\n",
              "27574  1292835145  ...  3032.88\n",
              "27602  1092574678  ...  1552.00\n",
              "27755  1061706792  ...  5305.00\n",
              "\n",
              "[10 rows x 13 columns]"
            ]
          },
          "metadata": {
            "tags": []
          },
          "execution_count": 9
        }
      ]
    },
    {
      "cell_type": "code",
      "metadata": {
        "id": "CvTC8b4b6WM3",
        "colab_type": "code",
        "outputId": "50e943e5-dafc-4619-806f-d52ba99f4af5",
        "colab": {
          "base_uri": "https://localhost:8080/",
          "height": 353
        }
      },
      "source": [
        "null_rows.info()"
      ],
      "execution_count": 0,
      "outputs": [
        {
          "output_type": "stream",
          "text": [
            "<class 'pandas.core.frame.DataFrame'>\n",
            "Int64Index: 745 entries, 9490 to 59365\n",
            "Data columns (total 13 columns):\n",
            " #   Column         Non-Null Count  Dtype         \n",
            "---  ------         --------------  -----         \n",
            " 0   id             745 non-null    int64         \n",
            " 1   name           745 non-null    object        \n",
            " 2   category       745 non-null    object        \n",
            " 3   main_category  745 non-null    object        \n",
            " 4   deadline       745 non-null    datetime64[ns]\n",
            " 5   goal           745 non-null    float64       \n",
            " 6   launched       745 non-null    datetime64[ns]\n",
            " 7   state          745 non-null    object        \n",
            " 8   backers        745 non-null    int64         \n",
            " 9   country        745 non-null    object        \n",
            " 10  usd_pledged    0 non-null      float64       \n",
            " 11  currency       745 non-null    object        \n",
            " 12  pledged        745 non-null    float64       \n",
            "dtypes: datetime64[ns](2), float64(3), int64(2), object(6)\n",
            "memory usage: 81.5+ KB\n"
          ],
          "name": "stdout"
        }
      ]
    },
    {
      "cell_type": "code",
      "metadata": {
        "id": "WpoWAyJR6eLz",
        "colab_type": "code",
        "outputId": "38f95608-a776-4ee9-f589-3a78d7f06ee0",
        "colab": {
          "base_uri": "https://localhost:8080/",
          "height": 817
        }
      },
      "source": [
        "zero_filled = null_rows.fillna(0)\n",
        "zero_filled.head(10)"
      ],
      "execution_count": 0,
      "outputs": [
        {
          "output_type": "execute_result",
          "data": {
            "text/html": [
              "<div>\n",
              "<style scoped>\n",
              "    .dataframe tbody tr th:only-of-type {\n",
              "        vertical-align: middle;\n",
              "    }\n",
              "\n",
              "    .dataframe tbody tr th {\n",
              "        vertical-align: top;\n",
              "    }\n",
              "\n",
              "    .dataframe thead th {\n",
              "        text-align: right;\n",
              "    }\n",
              "</style>\n",
              "<table border=\"1\" class=\"dataframe\">\n",
              "  <thead>\n",
              "    <tr style=\"text-align: right;\">\n",
              "      <th></th>\n",
              "      <th>id</th>\n",
              "      <th>name</th>\n",
              "      <th>category</th>\n",
              "      <th>main_category</th>\n",
              "      <th>deadline</th>\n",
              "      <th>goal</th>\n",
              "      <th>launched</th>\n",
              "      <th>state</th>\n",
              "      <th>backers</th>\n",
              "      <th>country</th>\n",
              "      <th>usd_pledged</th>\n",
              "      <th>currency</th>\n",
              "      <th>pledged</th>\n",
              "    </tr>\n",
              "  </thead>\n",
              "  <tbody>\n",
              "    <tr>\n",
              "      <th>9490</th>\n",
              "      <td>1189637889</td>\n",
              "      <td>\"Natural Born Hooker\"</td>\n",
              "      <td>Theater</td>\n",
              "      <td>Theater</td>\n",
              "      <td>2012-04-24 08:59:00</td>\n",
              "      <td>25000.0</td>\n",
              "      <td>2012-03-14 19:05:44</td>\n",
              "      <td>undefined</td>\n",
              "      <td>0</td>\n",
              "      <td>N,\"0</td>\n",
              "      <td>0.0</td>\n",
              "      <td>USD</td>\n",
              "      <td>2621.00</td>\n",
              "    </tr>\n",
              "    <tr>\n",
              "      <th>15111</th>\n",
              "      <td>1244477824</td>\n",
              "      <td>Statpedia - The Collaborative Search Engine fo...</td>\n",
              "      <td>Software</td>\n",
              "      <td>Technology</td>\n",
              "      <td>2012-12-14 10:48:14</td>\n",
              "      <td>500.0</td>\n",
              "      <td>2012-11-14 10:48:14</td>\n",
              "      <td>undefined</td>\n",
              "      <td>0</td>\n",
              "      <td>N,\"0</td>\n",
              "      <td>0.0</td>\n",
              "      <td>USD</td>\n",
              "      <td>500.00</td>\n",
              "    </tr>\n",
              "    <tr>\n",
              "      <th>17484</th>\n",
              "      <td>1084993156</td>\n",
              "      <td>Willy Tea, Chris Doud and Chums: The Children'...</td>\n",
              "      <td>Music</td>\n",
              "      <td>Music</td>\n",
              "      <td>2013-04-09 06:06:11</td>\n",
              "      <td>3750.0</td>\n",
              "      <td>2013-03-26 05:06:11</td>\n",
              "      <td>successful</td>\n",
              "      <td>0</td>\n",
              "      <td>N,\"0</td>\n",
              "      <td>0.0</td>\n",
              "      <td>USD</td>\n",
              "      <td>4593.00</td>\n",
              "    </tr>\n",
              "    <tr>\n",
              "      <th>17532</th>\n",
              "      <td>1379649454</td>\n",
              "      <td>Juiette Z. Payne presents debut EP \"Eternal Da...</td>\n",
              "      <td>Music</td>\n",
              "      <td>Music</td>\n",
              "      <td>2013-04-11 15:50:25</td>\n",
              "      <td>5000.0</td>\n",
              "      <td>2013-03-02 15:50:25</td>\n",
              "      <td>successful</td>\n",
              "      <td>0</td>\n",
              "      <td>N,\"0</td>\n",
              "      <td>0.0</td>\n",
              "      <td>USD</td>\n",
              "      <td>5250.00</td>\n",
              "    </tr>\n",
              "    <tr>\n",
              "      <th>27334</th>\n",
              "      <td>1349042579</td>\n",
              "      <td>O'Films Production Launch!</td>\n",
              "      <td>Film &amp; Video</td>\n",
              "      <td>Film &amp; Video</td>\n",
              "      <td>2014-04-30 02:58:25</td>\n",
              "      <td>6000.0</td>\n",
              "      <td>2014-04-08 02:58:25</td>\n",
              "      <td>undefined</td>\n",
              "      <td>0</td>\n",
              "      <td>N,\"0</td>\n",
              "      <td>0.0</td>\n",
              "      <td>USD</td>\n",
              "      <td>6168.00</td>\n",
              "    </tr>\n",
              "    <tr>\n",
              "      <th>27443</th>\n",
              "      <td>1205956740</td>\n",
              "      <td>Short Film - \"The Man Who Choked\"</td>\n",
              "      <td>Film &amp; Video</td>\n",
              "      <td>Film &amp; Video</td>\n",
              "      <td>2014-05-02 12:47:00</td>\n",
              "      <td>1000.0</td>\n",
              "      <td>2014-04-16 13:21:21</td>\n",
              "      <td>undefined</td>\n",
              "      <td>0</td>\n",
              "      <td>N,\"0</td>\n",
              "      <td>0.0</td>\n",
              "      <td>GBP</td>\n",
              "      <td>1042.00</td>\n",
              "    </tr>\n",
              "    <tr>\n",
              "      <th>27522</th>\n",
              "      <td>1125500286</td>\n",
              "      <td>All About Amy</td>\n",
              "      <td>Film &amp; Video</td>\n",
              "      <td>Film &amp; Video</td>\n",
              "      <td>2014-05-04 17:41:13</td>\n",
              "      <td>3000.0</td>\n",
              "      <td>2014-04-04 17:41:13</td>\n",
              "      <td>undefined</td>\n",
              "      <td>0</td>\n",
              "      <td>N,\"0</td>\n",
              "      <td>0.0</td>\n",
              "      <td>USD</td>\n",
              "      <td>3225.00</td>\n",
              "    </tr>\n",
              "    <tr>\n",
              "      <th>27574</th>\n",
              "      <td>1292835145</td>\n",
              "      <td>WonderQuest ~ A Feature Length Music Film</td>\n",
              "      <td>Film &amp; Video</td>\n",
              "      <td>Film &amp; Video</td>\n",
              "      <td>2014-05-06 05:12:41</td>\n",
              "      <td>1111.0</td>\n",
              "      <td>2014-04-05 05:12:41</td>\n",
              "      <td>undefined</td>\n",
              "      <td>0</td>\n",
              "      <td>N,\"0</td>\n",
              "      <td>0.0</td>\n",
              "      <td>USD</td>\n",
              "      <td>3032.88</td>\n",
              "    </tr>\n",
              "    <tr>\n",
              "      <th>27602</th>\n",
              "      <td>1092574678</td>\n",
              "      <td>Pixelate Film Festival 2014</td>\n",
              "      <td>Film &amp; Video</td>\n",
              "      <td>Film &amp; Video</td>\n",
              "      <td>2014-05-07 13:37:16</td>\n",
              "      <td>1500.0</td>\n",
              "      <td>2014-04-09 13:37:16</td>\n",
              "      <td>undefined</td>\n",
              "      <td>0</td>\n",
              "      <td>N,\"0</td>\n",
              "      <td>0.0</td>\n",
              "      <td>GBP</td>\n",
              "      <td>1552.00</td>\n",
              "    </tr>\n",
              "    <tr>\n",
              "      <th>27755</th>\n",
              "      <td>1061706792</td>\n",
              "      <td>Zombie Shuffle feature film</td>\n",
              "      <td>Film &amp; Video</td>\n",
              "      <td>Film &amp; Video</td>\n",
              "      <td>2014-05-12 05:59:00</td>\n",
              "      <td>5000.0</td>\n",
              "      <td>2014-04-09 16:12:49</td>\n",
              "      <td>undefined</td>\n",
              "      <td>0</td>\n",
              "      <td>N,\"0</td>\n",
              "      <td>0.0</td>\n",
              "      <td>USD</td>\n",
              "      <td>5305.00</td>\n",
              "    </tr>\n",
              "  </tbody>\n",
              "</table>\n",
              "</div>"
            ],
            "text/plain": [
              "               id  ...  pledged\n",
              "9490   1189637889  ...  2621.00\n",
              "15111  1244477824  ...   500.00\n",
              "17484  1084993156  ...  4593.00\n",
              "17532  1379649454  ...  5250.00\n",
              "27334  1349042579  ...  6168.00\n",
              "27443  1205956740  ...  1042.00\n",
              "27522  1125500286  ...  3225.00\n",
              "27574  1292835145  ...  3032.88\n",
              "27602  1092574678  ...  1552.00\n",
              "27755  1061706792  ...  5305.00\n",
              "\n",
              "[10 rows x 13 columns]"
            ]
          },
          "metadata": {
            "tags": []
          },
          "execution_count": 11
        }
      ]
    },
    {
      "cell_type": "code",
      "metadata": {
        "id": "i-M5TP0165CX",
        "colab_type": "code",
        "outputId": "58cb0c28-c768-4fa3-95a8-f50ce9b7b0d2",
        "colab": {
          "base_uri": "https://localhost:8080/",
          "height": 50
        }
      },
      "source": [
        "# print the original size of the DataFrame\n",
        "print(projects_df.size)\n",
        "\n",
        "# drop NaN rows\n",
        "clean_projects = projects_df.dropna()\n",
        "\n",
        "# print the size of the modified DataFrame\n",
        "print(clean_projects.size)"
      ],
      "execution_count": 0,
      "outputs": [
        {
          "output_type": "stream",
          "text": [
            "850434\n",
            "840749\n"
          ],
          "name": "stdout"
        }
      ]
    },
    {
      "cell_type": "code",
      "metadata": {
        "id": "c9lN0i3XDB_e",
        "colab_type": "code",
        "outputId": "6c8c00b7-9208-4d47-e2f6-780d51b35049",
        "colab": {
          "base_uri": "https://localhost:8080/",
          "height": 151
        }
      },
      "source": [
        "series_statistics(clean_projects['goal'])\n",
        "def series_statistics(column):\n",
        "  print('statistics for column: {}'.format(column.name))\n",
        "  print('The max value in the column: {}'.format(column.max()))\n",
        "  print('The min value in the column: {}'.format(column.min()))\n",
        "  print('The mode value in the column: {}'.format(column.mode()))\n",
        "  print('The median value in the column: {}'.format(column.median()))\n",
        "  print('The mean of the column: {}'.format(column.mean()))\n",
        "  print('The std of the column: {}'.format(column.std()))"
      ],
      "execution_count": 0,
      "outputs": [
        {
          "output_type": "stream",
          "text": [
            "statistics for column: goal\n",
            "The max value in the column: 100000000.0\n",
            "The min value in the column: 1.0\n",
            "The mode value in the column: 0    5000.0\n",
            "dtype: float64\n",
            "The median value in the column: 5000.0\n",
            "The mean of the column: 42094.83745674393\n",
            "The std of the column: 1033205.2738987174\n"
          ],
          "name": "stdout"
        }
      ]
    },
    {
      "cell_type": "code",
      "metadata": {
        "id": "1eEn4QdAEkCf",
        "colab_type": "code",
        "outputId": "81258aa9-7b07-48a3-d6ca-7060648cff59",
        "colab": {
          "base_uri": "https://localhost:8080/",
          "height": 151
        }
      },
      "source": [
        "series_statistics(clean_projects['usd_pledged'])"
      ],
      "execution_count": 0,
      "outputs": [
        {
          "output_type": "stream",
          "text": [
            "statistics for column: usd_pledged\n",
            "The max value in the column: 8596480.0\n",
            "The min value in the column: 0.0\n",
            "The mode value in the column: 0    0.0\n",
            "dtype: float64\n",
            "The median value in the column: 542.0\n",
            "The mean of the column: 7900.242114883215\n",
            "The std of the column: 72783.34386006395\n"
          ],
          "name": "stdout"
        }
      ]
    },
    {
      "cell_type": "code",
      "metadata": {
        "id": "_bJ4uvYPEvpm",
        "colab_type": "code",
        "outputId": "c9426001-bf69-45a9-feb5-ab2c84f5e091",
        "colab": {
          "base_uri": "https://localhost:8080/",
          "height": 168
        }
      },
      "source": [
        "clean_projects['goal'].describe()"
      ],
      "execution_count": 0,
      "outputs": [
        {
          "output_type": "execute_result",
          "data": {
            "text/plain": [
              "count    6.467300e+04\n",
              "mean     4.209484e+04\n",
              "std      1.033205e+06\n",
              "min      1.000000e+00\n",
              "25%      2.000000e+03\n",
              "50%      5.000000e+03\n",
              "75%      1.500000e+04\n",
              "max      1.000000e+08\n",
              "Name: goal, dtype: float64"
            ]
          },
          "metadata": {
            "tags": []
          },
          "execution_count": 22
        }
      ]
    },
    {
      "cell_type": "code",
      "metadata": {
        "id": "VT7TAk7oEx0Q",
        "colab_type": "code",
        "outputId": "4c93c748-472c-401d-ae14-2840f299b8f1",
        "colab": {
          "base_uri": "https://localhost:8080/",
          "height": 284
        }
      },
      "source": [
        "clean_projects[['goal', 'usd_pledged', 'backers']].describe()"
      ],
      "execution_count": 0,
      "outputs": [
        {
          "output_type": "execute_result",
          "data": {
            "text/html": [
              "<div>\n",
              "<style scoped>\n",
              "    .dataframe tbody tr th:only-of-type {\n",
              "        vertical-align: middle;\n",
              "    }\n",
              "\n",
              "    .dataframe tbody tr th {\n",
              "        vertical-align: top;\n",
              "    }\n",
              "\n",
              "    .dataframe thead th {\n",
              "        text-align: right;\n",
              "    }\n",
              "</style>\n",
              "<table border=\"1\" class=\"dataframe\">\n",
              "  <thead>\n",
              "    <tr style=\"text-align: right;\">\n",
              "      <th></th>\n",
              "      <th>goal</th>\n",
              "      <th>usd_pledged</th>\n",
              "      <th>backers</th>\n",
              "    </tr>\n",
              "  </thead>\n",
              "  <tbody>\n",
              "    <tr>\n",
              "      <th>count</th>\n",
              "      <td>6.467300e+04</td>\n",
              "      <td>6.467300e+04</td>\n",
              "      <td>64673.000000</td>\n",
              "    </tr>\n",
              "    <tr>\n",
              "      <th>mean</th>\n",
              "      <td>4.209484e+04</td>\n",
              "      <td>7.900242e+03</td>\n",
              "      <td>104.336091</td>\n",
              "    </tr>\n",
              "    <tr>\n",
              "      <th>std</th>\n",
              "      <td>1.033205e+06</td>\n",
              "      <td>7.278334e+04</td>\n",
              "      <td>994.725411</td>\n",
              "    </tr>\n",
              "    <tr>\n",
              "      <th>min</th>\n",
              "      <td>1.000000e+00</td>\n",
              "      <td>0.000000e+00</td>\n",
              "      <td>0.000000</td>\n",
              "    </tr>\n",
              "    <tr>\n",
              "      <th>25%</th>\n",
              "      <td>2.000000e+03</td>\n",
              "      <td>2.500000e+01</td>\n",
              "      <td>2.000000</td>\n",
              "    </tr>\n",
              "    <tr>\n",
              "      <th>50%</th>\n",
              "      <td>5.000000e+03</td>\n",
              "      <td>5.420000e+02</td>\n",
              "      <td>13.000000</td>\n",
              "    </tr>\n",
              "    <tr>\n",
              "      <th>75%</th>\n",
              "      <td>1.500000e+04</td>\n",
              "      <td>3.608380e+03</td>\n",
              "      <td>56.000000</td>\n",
              "    </tr>\n",
              "    <tr>\n",
              "      <th>max</th>\n",
              "      <td>1.000000e+08</td>\n",
              "      <td>8.596480e+06</td>\n",
              "      <td>154926.000000</td>\n",
              "    </tr>\n",
              "  </tbody>\n",
              "</table>\n",
              "</div>"
            ],
            "text/plain": [
              "               goal   usd_pledged        backers\n",
              "count  6.467300e+04  6.467300e+04   64673.000000\n",
              "mean   4.209484e+04  7.900242e+03     104.336091\n",
              "std    1.033205e+06  7.278334e+04     994.725411\n",
              "min    1.000000e+00  0.000000e+00       0.000000\n",
              "25%    2.000000e+03  2.500000e+01       2.000000\n",
              "50%    5.000000e+03  5.420000e+02      13.000000\n",
              "75%    1.500000e+04  3.608380e+03      56.000000\n",
              "max    1.000000e+08  8.596480e+06  154926.000000"
            ]
          },
          "metadata": {
            "tags": []
          },
          "execution_count": 23
        }
      ]
    },
    {
      "cell_type": "code",
      "metadata": {
        "id": "wO6zcIzjGEfu",
        "colab_type": "code",
        "outputId": "ed70d6a6-e211-4706-dd53-6f9b3161afc8",
        "colab": {
          "base_uri": "https://localhost:8080/",
          "height": 34
        }
      },
      "source": [
        "clean_projects['goal'].corr(clean_projects['usd_pledged'])"
      ],
      "execution_count": 0,
      "outputs": [
        {
          "output_type": "execute_result",
          "data": {
            "text/plain": [
              "0.006423740131433384"
            ]
          },
          "metadata": {
            "tags": []
          },
          "execution_count": 25
        }
      ]
    },
    {
      "cell_type": "code",
      "metadata": {
        "id": "lYOE6IC1GJvj",
        "colab_type": "code",
        "outputId": "6413b0ed-aff2-4777-a3f7-f98da2e9db56",
        "colab": {
          "base_uri": "https://localhost:8080/",
          "height": 136
        }
      },
      "source": [
        "clean_projects[['goal', 'usd_pledged', 'backers']].corr()"
      ],
      "execution_count": 0,
      "outputs": [
        {
          "output_type": "execute_result",
          "data": {
            "text/html": [
              "<div>\n",
              "<style scoped>\n",
              "    .dataframe tbody tr th:only-of-type {\n",
              "        vertical-align: middle;\n",
              "    }\n",
              "\n",
              "    .dataframe tbody tr th {\n",
              "        vertical-align: top;\n",
              "    }\n",
              "\n",
              "    .dataframe thead th {\n",
              "        text-align: right;\n",
              "    }\n",
              "</style>\n",
              "<table border=\"1\" class=\"dataframe\">\n",
              "  <thead>\n",
              "    <tr style=\"text-align: right;\">\n",
              "      <th></th>\n",
              "      <th>goal</th>\n",
              "      <th>usd_pledged</th>\n",
              "      <th>backers</th>\n",
              "    </tr>\n",
              "  </thead>\n",
              "  <tbody>\n",
              "    <tr>\n",
              "      <th>goal</th>\n",
              "      <td>1.000000</td>\n",
              "      <td>0.006424</td>\n",
              "      <td>0.003033</td>\n",
              "    </tr>\n",
              "    <tr>\n",
              "      <th>usd_pledged</th>\n",
              "      <td>0.006424</td>\n",
              "      <td>1.000000</td>\n",
              "      <td>0.569047</td>\n",
              "    </tr>\n",
              "    <tr>\n",
              "      <th>backers</th>\n",
              "      <td>0.003033</td>\n",
              "      <td>0.569047</td>\n",
              "      <td>1.000000</td>\n",
              "    </tr>\n",
              "  </tbody>\n",
              "</table>\n",
              "</div>"
            ],
            "text/plain": [
              "                 goal  usd_pledged   backers\n",
              "goal         1.000000     0.006424  0.003033\n",
              "usd_pledged  0.006424     1.000000  0.569047\n",
              "backers      0.003033     0.569047  1.000000"
            ]
          },
          "metadata": {
            "tags": []
          },
          "execution_count": 26
        }
      ]
    },
    {
      "cell_type": "code",
      "metadata": {
        "id": "tMywn0nyGyH_",
        "colab_type": "code",
        "colab": {}
      },
      "source": [
        "Independent Samples t-test"
      ],
      "execution_count": 0,
      "outputs": []
    },
    {
      "cell_type": "code",
      "metadata": {
        "id": "EHqCdRp2GzS_",
        "colab_type": "code",
        "outputId": "466c7c5a-dc93-4ea6-ab4d-f592dbb73adc",
        "colab": {
          "base_uri": "https://localhost:8080/",
          "height": 126
        }
      },
      "source": [
        "# Database credentials\n",
        "postgres_user = 'dabc_student'\n",
        "postgres_pw = '7*.8G9QH21'\n",
        "postgres_host = '142.93.121.174'\n",
        "postgres_port = '5432'\n",
        "postgres_db = 'baseball'\n",
        "\n",
        "# use the credentials to start a connection\n",
        "engine = create_engine('postgresql://{}:{}@{}:{}/{}'.format(\n",
        "    postgres_user, postgres_pw, postgres_host, postgres_port, postgres_db))\n",
        "\n",
        "# SQL to select players and salaries\n",
        "sql = 'SELECT p.playerid, birthyear, birthcountry, deathyear, namefirst, namelast, weight, height, bats, throws, yearid, teamid, lgid, salary FROM people p join salaries s on p.playerid = s.playerid'\n",
        "\n",
        "\n",
        "# Use the query to create a DataFrame\n",
        "players_df = pd.read_sql_query(sql, con=engine)\n",
        "\n",
        "# remove the connection\n",
        "engine.dispose()\n",
        "\n",
        "# print 2 rows to see what we got\n",
        "players_df.head(2)"
      ],
      "execution_count": 0,
      "outputs": [
        {
          "output_type": "execute_result",
          "data": {
            "text/html": [
              "<div>\n",
              "<style scoped>\n",
              "    .dataframe tbody tr th:only-of-type {\n",
              "        vertical-align: middle;\n",
              "    }\n",
              "\n",
              "    .dataframe tbody tr th {\n",
              "        vertical-align: top;\n",
              "    }\n",
              "\n",
              "    .dataframe thead th {\n",
              "        text-align: right;\n",
              "    }\n",
              "</style>\n",
              "<table border=\"1\" class=\"dataframe\">\n",
              "  <thead>\n",
              "    <tr style=\"text-align: right;\">\n",
              "      <th></th>\n",
              "      <th>playerid</th>\n",
              "      <th>birthyear</th>\n",
              "      <th>birthcountry</th>\n",
              "      <th>deathyear</th>\n",
              "      <th>namefirst</th>\n",
              "      <th>namelast</th>\n",
              "      <th>weight</th>\n",
              "      <th>height</th>\n",
              "      <th>bats</th>\n",
              "      <th>throws</th>\n",
              "      <th>yearid</th>\n",
              "      <th>teamid</th>\n",
              "      <th>lgid</th>\n",
              "      <th>salary</th>\n",
              "    </tr>\n",
              "  </thead>\n",
              "  <tbody>\n",
              "    <tr>\n",
              "      <th>0</th>\n",
              "      <td>barkele01</td>\n",
              "      <td>1955</td>\n",
              "      <td>USA</td>\n",
              "      <td>NaN</td>\n",
              "      <td>Len</td>\n",
              "      <td>Barker</td>\n",
              "      <td>225</td>\n",
              "      <td>77</td>\n",
              "      <td>R</td>\n",
              "      <td>R</td>\n",
              "      <td>1985</td>\n",
              "      <td>ATL</td>\n",
              "      <td>NL</td>\n",
              "      <td>870000</td>\n",
              "    </tr>\n",
              "    <tr>\n",
              "      <th>1</th>\n",
              "      <td>bedrost01</td>\n",
              "      <td>1957</td>\n",
              "      <td>USA</td>\n",
              "      <td>NaN</td>\n",
              "      <td>Steve</td>\n",
              "      <td>Bedrosian</td>\n",
              "      <td>200</td>\n",
              "      <td>75</td>\n",
              "      <td>R</td>\n",
              "      <td>R</td>\n",
              "      <td>1985</td>\n",
              "      <td>ATL</td>\n",
              "      <td>NL</td>\n",
              "      <td>550000</td>\n",
              "    </tr>\n",
              "  </tbody>\n",
              "</table>\n",
              "</div>"
            ],
            "text/plain": [
              "    playerid  birthyear birthcountry  deathyear  ... yearid teamid  lgid  salary\n",
              "0  barkele01       1955          USA        NaN  ...   1985    ATL    NL  870000\n",
              "1  bedrost01       1957          USA        NaN  ...   1985    ATL    NL  550000\n",
              "\n",
              "[2 rows x 14 columns]"
            ]
          },
          "metadata": {
            "tags": []
          },
          "execution_count": 27
        }
      ]
    },
    {
      "cell_type": "code",
      "metadata": {
        "id": "DjFJGNjFG-zK",
        "colab_type": "code",
        "outputId": "967fc15d-0db6-4ae9-f56b-2f6f4cebcc58",
        "colab": {
          "base_uri": "https://localhost:8080/",
          "height": 370
        }
      },
      "source": [
        "players_1990 = players_df.iloc[(players_df['yearid'] == 1990).values]\n",
        "players_1990.info()"
      ],
      "execution_count": 0,
      "outputs": [
        {
          "output_type": "stream",
          "text": [
            "<class 'pandas.core.frame.DataFrame'>\n",
            "Int64Index: 867 entries, 3289 to 4155\n",
            "Data columns (total 14 columns):\n",
            " #   Column        Non-Null Count  Dtype  \n",
            "---  ------        --------------  -----  \n",
            " 0   playerid      867 non-null    object \n",
            " 1   birthyear     867 non-null    int64  \n",
            " 2   birthcountry  867 non-null    object \n",
            " 3   deathyear     36 non-null     float64\n",
            " 4   namefirst     867 non-null    object \n",
            " 5   namelast      867 non-null    object \n",
            " 6   weight        867 non-null    int64  \n",
            " 7   height        867 non-null    int64  \n",
            " 8   bats          867 non-null    object \n",
            " 9   throws        867 non-null    object \n",
            " 10  yearid        867 non-null    int64  \n",
            " 11  teamid        867 non-null    object \n",
            " 12  lgid          867 non-null    object \n",
            " 13  salary        867 non-null    int64  \n",
            "dtypes: float64(1), int64(5), object(8)\n",
            "memory usage: 101.6+ KB\n"
          ],
          "name": "stdout"
        }
      ]
    },
    {
      "cell_type": "code",
      "metadata": {
        "id": "-6p43_aYHPGq",
        "colab_type": "code",
        "outputId": "38b422f7-b4cf-4724-d564-91284c194859",
        "colab": {
          "base_uri": "https://localhost:8080/",
          "height": 370
        }
      },
      "source": [
        "players_2000 = players_df.iloc[(players_df['yearid'] == 2000).values]\n",
        "players_2000.info()"
      ],
      "execution_count": 0,
      "outputs": [
        {
          "output_type": "stream",
          "text": [
            "<class 'pandas.core.frame.DataFrame'>\n",
            "Int64Index: 836 entries, 12263 to 13098\n",
            "Data columns (total 14 columns):\n",
            " #   Column        Non-Null Count  Dtype  \n",
            "---  ------        --------------  -----  \n",
            " 0   playerid      836 non-null    object \n",
            " 1   birthyear     836 non-null    int64  \n",
            " 2   birthcountry  836 non-null    object \n",
            " 3   deathyear     10 non-null     float64\n",
            " 4   namefirst     836 non-null    object \n",
            " 5   namelast      836 non-null    object \n",
            " 6   weight        836 non-null    int64  \n",
            " 7   height        836 non-null    int64  \n",
            " 8   bats          836 non-null    object \n",
            " 9   throws        836 non-null    object \n",
            " 10  yearid        836 non-null    int64  \n",
            " 11  teamid        836 non-null    object \n",
            " 12  lgid          836 non-null    object \n",
            " 13  salary        836 non-null    int64  \n",
            "dtypes: float64(1), int64(5), object(8)\n",
            "memory usage: 98.0+ KB\n"
          ],
          "name": "stdout"
        }
      ]
    },
    {
      "cell_type": "code",
      "metadata": {
        "id": "1uzBgsXLHamy",
        "colab_type": "code",
        "outputId": "046ff642-7296-425e-f464-456adfe13982",
        "colab": {
          "base_uri": "https://localhost:8080/",
          "height": 34
        }
      },
      "source": [
        "stats.ttest_ind(players_1990['salary'], players_2000['salary'])"
      ],
      "execution_count": 0,
      "outputs": [
        {
          "output_type": "execute_result",
          "data": {
            "text/plain": [
              "Ttest_indResult(statistic=-16.90651573407297, pvalue=2.1593870550905857e-59)"
            ]
          },
          "metadata": {
            "tags": []
          },
          "execution_count": 30
        }
      ]
    },
    {
      "cell_type": "code",
      "metadata": {
        "id": "VN0JgsQdHxfR",
        "colab_type": "code",
        "colab": {}
      },
      "source": [
        "sample_1_n = players_1990.shape[0]\n",
        "sample_2_n = players_2000.shape[0]\n",
        "sample_1_mean = players_1990['salary'].mean()\n",
        "sample_2_mean = players_2000['salary'].mean()\n",
        "sample_1_var = players_1990['salary'].var()\n",
        "sample_2_var = players_2000['salary'].var()"
      ],
      "execution_count": 0,
      "outputs": []
    },
    {
      "cell_type": "code",
      "metadata": {
        "id": "hZUfphaBH67u",
        "colab_type": "code",
        "outputId": "4539d2f8-87a2-4d2c-b491-97c35eb64e0f",
        "colab": {
          "base_uri": "https://localhost:8080/",
          "height": 34
        }
      },
      "source": [
        "# Calculate the standard error and compute the confidence intervals\n",
        "\n",
        "import math\n",
        "std_err_difference = math.sqrt((sample_1_var/sample_1_n)+(sample_2_var/sample_2_n))\n",
        "\n",
        "mean_difference = sample_2_mean - sample_1_mean\n",
        "\n",
        "margin_of_error = 1.96 * std_err_difference\n",
        "ci_lower = mean_difference - margin_of_error\n",
        "ci_upper = mean_difference + margin_of_error\n",
        "\n",
        "print(\"The difference in means at the 95% confidence interval is between \"+str(ci_lower)+\" and \"+str(ci_upper)+\".\")"
      ],
      "execution_count": 0,
      "outputs": [
        {
          "output_type": "stream",
          "text": [
            "The difference in means at the 95% confidence interval is between 1306451.096390415 and 1655570.6584535995.\n"
          ],
          "name": "stdout"
        }
      ]
    },
    {
      "cell_type": "code",
      "metadata": {
        "id": "fRCT0ieZIIDw",
        "colab_type": "code",
        "outputId": "6c88211d-7bc1-4804-ce77-39542985d4fc",
        "colab": {
          "base_uri": "https://localhost:8080/",
          "height": 34
        }
      },
      "source": [
        "def get_95_ci(array_1, array_2):\n",
        "    sample_1_n = array_1.shape[0]\n",
        "    sample_2_n = array_2.shape[0]\n",
        "    sample_1_mean = array_1.mean()\n",
        "    sample_2_mean = array_2.mean()\n",
        "    sample_1_var = array_1.var()\n",
        "    sample_2_var = array_2.var()\n",
        "    mean_difference = sample_2_mean - sample_1_mean\n",
        "    std_err_difference = math.sqrt((sample_1_var/sample_1_n)+(sample_2_var/sample_2_n))\n",
        "    margin_of_error = 1.96 * std_err_difference\n",
        "    ci_lower = mean_difference - margin_of_error\n",
        "    ci_upper = mean_difference + margin_of_error\n",
        "    return(\"The difference in means at the 95% confidence interval (two-tail) is between \"+str(ci_lower)+\" and \"+str(ci_upper)+\".\")\n",
        "\n",
        "get_95_ci(players_1990['salary'],players_2000['salary'])"
      ],
      "execution_count": 0,
      "outputs": [
        {
          "output_type": "execute_result",
          "data": {
            "text/plain": [
              "'The difference in means at the 95% confidence interval (two-tail) is between 1306451.096390415 and 1655570.6584535995.'"
            ]
          },
          "metadata": {
            "tags": []
          },
          "execution_count": 33
        }
      ]
    }
  ]
}