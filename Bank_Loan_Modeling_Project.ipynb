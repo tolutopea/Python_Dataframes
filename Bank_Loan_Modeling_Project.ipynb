{
  "nbformat": 4,
  "nbformat_minor": 0,
  "metadata": {
    "colab": {
      "name": "Bank_Loan_Modeling_Project",
      "provenance": [],
      "collapsed_sections": [],
      "authorship_tag": "ABX9TyMAqKE56snqgZnsDg7I0Iae",
      "include_colab_link": true
    },
    "kernelspec": {
      "name": "python3",
      "display_name": "Python 3"
    }
  },
  "cells": [
    {
      "cell_type": "markdown",
      "metadata": {
        "id": "view-in-github",
        "colab_type": "text"
      },
      "source": [
        "<a href=\"https://colab.research.google.com/github/tolutopea/Python_Dataframes/blob/master/Bank_Loan_Modeling_Project.ipynb\" target=\"_parent\"><img src=\"https://colab.research.google.com/assets/colab-badge.svg\" alt=\"Open In Colab\"/></a>"
      ]
    },
    {
      "cell_type": "markdown",
      "metadata": {
        "id": "bCFqJJrw6ZZ1",
        "colab_type": "text"
      },
      "source": [
        "**Data Analysis to identify the factors that influence spending, and potential customers who have a higher probability of taking a Personal Loan.**\n",
        "\n",
        "\n"
      ]
    },
    {
      "cell_type": "markdown",
      "metadata": {
        "id": "dbCrk2yc6g4t",
        "colab_type": "text"
      },
      "source": [
        "The case study of Thera Bank. \n",
        "\n",
        "Focus is to increase the client base of asset customers, and convert as many liabiity customers to asset customers, as possible. \n",
        "\n",
        "We would begin the following hypothesis:\n",
        "\n",
        "*\tDoes zip code reflect the size of income per customer?\n",
        "* To what degree does family size affect credit card spending?\n",
        "* Is age a factor when considering customers who use online services?\n",
        "* Are college graduates likely to live in more expensive homes?\n",
        "\n",
        "In addition, we would make visualizations and conduct statistical analysis.\n",
        "\n",
        "Our goal is to:\n",
        "\n",
        "* Sell more Personal Loan products to Bank customers.\n",
        "* Develop marketing campaigns to increase the success ratio with a minimal budget.\n",
        "* Identify potential customers who have a higher probability of purchasing a loan from Thera Bank\n",
        "\n",
        "Our approach:\n",
        "\n",
        "We made the simple step-by-step analysis of customer's characteristics to identify patterns to effectively choose the subset of customers who have a higher probability to buy new product \"Personal Loan\" from The Bank. \n",
        "\n",
        "We went ahead to answer the following questions in our hypohesis:\n",
        "\n",
        "*\tDoes zip code reflect the size of income per customer?\n",
        "*\tTo what degree does family size affect credit card spending?\n",
        "*\tIs age a factor when considering customers who use online services?\n",
        "*\tAre college graduates likely to live in more expensive homes?\n",
        "\n",
        "We performed the following steps:\n",
        "> - We checked all twelve characteristics whether or not each of them has an association with Personal Loan.\n",
        "> - We found FIVE main characteristics that have higher than moderate strength of association with Personal Loan.\n",
        "> - We analyzed the main characteristics and got segments in each with different strengths of association with the product.\n",
        "> - We worked towards  maning a subset of customers with ideal characteristics who has the highest probability to purchase a Personal Loan.\n",
        "> - We built a simple algorithm to make a subset of data to get the customers IDs who have a high probability to take a Personal Loan\n",
        "\n",
        "**Technologies**\n",
        "\n",
        "- Python\n",
        "- Pandas\n",
        "- Numpy\n",
        "- Seaborn\n",
        "- Matplotlib\n"
      ]
    },
    {
      "cell_type": "code",
      "metadata": {
        "id": "bu2H6zC_surW",
        "colab_type": "code",
        "outputId": "831c61bd-6576-4617-bfb0-c7c6712ec36e",
        "colab": {
          "base_uri": "https://localhost:8080/",
          "height": 121
        }
      },
      "source": [
        "from google.colab import drive\n",
        "drive.mount('/content/gdrive')"
      ],
      "execution_count": 0,
      "outputs": [
        {
          "output_type": "stream",
          "text": [
            "Go to this URL in a browser: https://accounts.google.com/o/oauth2/auth?client_id=947318989803-6bn6qk8qdgf4n4g3pfee6491hc0brc4i.apps.googleusercontent.com&redirect_uri=urn%3aietf%3awg%3aoauth%3a2.0%3aoob&response_type=code&scope=email%20https%3a%2f%2fwww.googleapis.com%2fauth%2fdocs.test%20https%3a%2f%2fwww.googleapis.com%2fauth%2fdrive%20https%3a%2f%2fwww.googleapis.com%2fauth%2fdrive.photos.readonly%20https%3a%2f%2fwww.googleapis.com%2fauth%2fpeopleapi.readonly\n",
            "\n",
            "Enter your authorization code:\n",
            "··········\n",
            "Mounted at /content/gdrive\n"
          ],
          "name": "stdout"
        }
      ]
    },
    {
      "cell_type": "code",
      "metadata": {
        "id": "v9n-F64qwjoL",
        "colab_type": "code",
        "outputId": "0eac17bc-4608-4f11-ddd1-6b18382e4143",
        "colab": {
          "base_uri": "https://localhost:8080/",
          "height": 232
        }
      },
      "source": [
        "import pandas as pd\n",
        "\n",
        "df = pd.read_csv('/content/gdrive/My Drive/Colab Datasets/Bank_Personal_Loan_Modelling_Final_Capstone.csv')\n",
        "df.head()"
      ],
      "execution_count": 0,
      "outputs": [
        {
          "output_type": "execute_result",
          "data": {
            "text/html": [
              "<div>\n",
              "<style scoped>\n",
              "    .dataframe tbody tr th:only-of-type {\n",
              "        vertical-align: middle;\n",
              "    }\n",
              "\n",
              "    .dataframe tbody tr th {\n",
              "        vertical-align: top;\n",
              "    }\n",
              "\n",
              "    .dataframe thead th {\n",
              "        text-align: right;\n",
              "    }\n",
              "</style>\n",
              "<table border=\"1\" class=\"dataframe\">\n",
              "  <thead>\n",
              "    <tr style=\"text-align: right;\">\n",
              "      <th></th>\n",
              "      <th>ID</th>\n",
              "      <th>Age</th>\n",
              "      <th>Experience</th>\n",
              "      <th>Income</th>\n",
              "      <th>ZIPCode</th>\n",
              "      <th>Family</th>\n",
              "      <th>CCAvg</th>\n",
              "      <th>Education</th>\n",
              "      <th>Mortgage</th>\n",
              "      <th>PersonalLoan</th>\n",
              "      <th>Securities Account</th>\n",
              "      <th>CD Account</th>\n",
              "      <th>Online</th>\n",
              "      <th>CreditCard</th>\n",
              "    </tr>\n",
              "  </thead>\n",
              "  <tbody>\n",
              "    <tr>\n",
              "      <th>0</th>\n",
              "      <td>1</td>\n",
              "      <td>25</td>\n",
              "      <td>1</td>\n",
              "      <td>49</td>\n",
              "      <td>91107</td>\n",
              "      <td>4</td>\n",
              "      <td>1.6</td>\n",
              "      <td>1</td>\n",
              "      <td>0</td>\n",
              "      <td>0</td>\n",
              "      <td>1</td>\n",
              "      <td>0</td>\n",
              "      <td>0</td>\n",
              "      <td>0</td>\n",
              "    </tr>\n",
              "    <tr>\n",
              "      <th>1</th>\n",
              "      <td>2</td>\n",
              "      <td>45</td>\n",
              "      <td>19</td>\n",
              "      <td>34</td>\n",
              "      <td>90089</td>\n",
              "      <td>3</td>\n",
              "      <td>1.5</td>\n",
              "      <td>1</td>\n",
              "      <td>0</td>\n",
              "      <td>0</td>\n",
              "      <td>1</td>\n",
              "      <td>0</td>\n",
              "      <td>0</td>\n",
              "      <td>0</td>\n",
              "    </tr>\n",
              "    <tr>\n",
              "      <th>2</th>\n",
              "      <td>3</td>\n",
              "      <td>39</td>\n",
              "      <td>15</td>\n",
              "      <td>11</td>\n",
              "      <td>94720</td>\n",
              "      <td>1</td>\n",
              "      <td>1.0</td>\n",
              "      <td>1</td>\n",
              "      <td>0</td>\n",
              "      <td>0</td>\n",
              "      <td>0</td>\n",
              "      <td>0</td>\n",
              "      <td>0</td>\n",
              "      <td>0</td>\n",
              "    </tr>\n",
              "    <tr>\n",
              "      <th>3</th>\n",
              "      <td>4</td>\n",
              "      <td>35</td>\n",
              "      <td>9</td>\n",
              "      <td>100</td>\n",
              "      <td>94112</td>\n",
              "      <td>1</td>\n",
              "      <td>2.7</td>\n",
              "      <td>2</td>\n",
              "      <td>0</td>\n",
              "      <td>0</td>\n",
              "      <td>0</td>\n",
              "      <td>0</td>\n",
              "      <td>0</td>\n",
              "      <td>0</td>\n",
              "    </tr>\n",
              "    <tr>\n",
              "      <th>4</th>\n",
              "      <td>5</td>\n",
              "      <td>35</td>\n",
              "      <td>8</td>\n",
              "      <td>45</td>\n",
              "      <td>91330</td>\n",
              "      <td>4</td>\n",
              "      <td>1.0</td>\n",
              "      <td>2</td>\n",
              "      <td>0</td>\n",
              "      <td>0</td>\n",
              "      <td>0</td>\n",
              "      <td>0</td>\n",
              "      <td>0</td>\n",
              "      <td>1</td>\n",
              "    </tr>\n",
              "  </tbody>\n",
              "</table>\n",
              "</div>"
            ],
            "text/plain": [
              "   ID  Age  Experience  ...  CD Account  Online  CreditCard\n",
              "0   1   25           1  ...           0       0           0\n",
              "1   2   45          19  ...           0       0           0\n",
              "2   3   39          15  ...           0       0           0\n",
              "3   4   35           9  ...           0       0           0\n",
              "4   5   35           8  ...           0       0           1\n",
              "\n",
              "[5 rows x 14 columns]"
            ]
          },
          "metadata": {
            "tags": []
          },
          "execution_count": 2
        }
      ]
    },
    {
      "cell_type": "markdown",
      "metadata": {
        "id": "OYDXE2n36z5f",
        "colab_type": "text"
      },
      "source": [
        "**Columns definition:**\n",
        "\n",
        "*ID* - Customer\n",
        "\n",
        "*ID* - Age Customer's age in completed years\n",
        "\n",
        "*Experience* - #years of professional experience\n",
        "\n",
        "*Income* - Annual income of the customer ($000)\n",
        "\n",
        "*ZIPCode* - Home Address ZIP code.\n",
        "\n",
        "*Family* - Family size of the customer\n",
        "\n",
        "*CCAvg* - Avg. spending on credit cards per month ($000)\n",
        "\n",
        "*Education* - Education Level. 1: Undergrad; 2: Graduate; 3: Advanced/Professional\n",
        "\n",
        "*Mortgage* - Value of house mortgage if any.\n",
        "\n",
        "*($000) PersonalLoan* - Did this customer accept the personal loan offered in the last campaign?\n",
        "\n",
        "*Securities*- Account Does the customer have a securities account with the bank?\n",
        "\n",
        "*CD Account* - Does the customer have a certificate of deposit (CD) account with the bank?\n",
        "\n",
        "*Online* - Does the customer use internet banking facilities?\n",
        "\n",
        "*CreditCard* - Does the customer uses a credit card issued by UniversalBank\n",
        "\n",
        "\n"
      ]
    },
    {
      "cell_type": "markdown",
      "metadata": {
        "id": "0PTcAbGf7nIr",
        "colab_type": "text"
      },
      "source": [
        "Let's take a peek into our dataset"
      ]
    },
    {
      "cell_type": "code",
      "metadata": {
        "id": "t8_9Bub_7knh",
        "colab_type": "code",
        "outputId": "c270c0b0-29d1-427d-d95a-91313fd52635",
        "colab": {
          "base_uri": "https://localhost:8080/",
          "height": 370
        }
      },
      "source": [
        "df.info()"
      ],
      "execution_count": 0,
      "outputs": [
        {
          "output_type": "stream",
          "text": [
            "<class 'pandas.core.frame.DataFrame'>\n",
            "RangeIndex: 5000 entries, 0 to 4999\n",
            "Data columns (total 14 columns):\n",
            " #   Column              Non-Null Count  Dtype  \n",
            "---  ------              --------------  -----  \n",
            " 0   ID                  5000 non-null   int64  \n",
            " 1   Age                 5000 non-null   int64  \n",
            " 2   Experience          5000 non-null   int64  \n",
            " 3   Income              5000 non-null   int64  \n",
            " 4   ZIPCode             5000 non-null   int64  \n",
            " 5   Family              5000 non-null   int64  \n",
            " 6   CCAvg               5000 non-null   float64\n",
            " 7   Education           5000 non-null   int64  \n",
            " 8   Mortgage            5000 non-null   int64  \n",
            " 9   PersonalLoan        5000 non-null   int64  \n",
            " 10  Securities Account  5000 non-null   int64  \n",
            " 11  CD Account          5000 non-null   int64  \n",
            " 12  Online              5000 non-null   int64  \n",
            " 13  CreditCard          5000 non-null   int64  \n",
            "dtypes: float64(1), int64(13)\n",
            "memory usage: 547.0 KB\n"
          ],
          "name": "stdout"
        }
      ]
    },
    {
      "cell_type": "code",
      "metadata": {
        "id": "2AgYSQ7E7yyG",
        "colab_type": "code",
        "outputId": "976189e2-ac1b-4f9f-b0df-21f316600514",
        "colab": {
          "base_uri": "https://localhost:8080/",
          "height": 34
        }
      },
      "source": [
        "df.shape"
      ],
      "execution_count": 0,
      "outputs": [
        {
          "output_type": "execute_result",
          "data": {
            "text/plain": [
              "(5000, 14)"
            ]
          },
          "metadata": {
            "tags": []
          },
          "execution_count": 4
        }
      ]
    },
    {
      "cell_type": "code",
      "metadata": {
        "id": "XDp8it6v73wM",
        "colab_type": "code",
        "outputId": "d77e8b04-8aed-4d29-c328-57a3add546fe",
        "colab": {
          "base_uri": "https://localhost:8080/",
          "height": 269
        }
      },
      "source": [
        "df.apply(lambda x : sum(x.isnull()))\n",
        "# no null values"
      ],
      "execution_count": 0,
      "outputs": [
        {
          "output_type": "execute_result",
          "data": {
            "text/plain": [
              "ID                    0\n",
              "Age                   0\n",
              "Experience            0\n",
              "Income                0\n",
              "ZIPCode               0\n",
              "Family                0\n",
              "CCAvg                 0\n",
              "Education             0\n",
              "Mortgage              0\n",
              "PersonalLoan          0\n",
              "Securities Account    0\n",
              "CD Account            0\n",
              "Online                0\n",
              "CreditCard            0\n",
              "dtype: int64"
            ]
          },
          "metadata": {
            "tags": []
          },
          "execution_count": 5
        }
      ]
    },
    {
      "cell_type": "code",
      "metadata": {
        "id": "mVefWkoy78pa",
        "colab_type": "code",
        "outputId": "8bb85cba-390b-409c-9df9-baf9c3c5f478",
        "colab": {
          "base_uri": "https://localhost:8080/",
          "height": 462
        }
      },
      "source": [
        "df.describe().transpose()"
      ],
      "execution_count": 0,
      "outputs": [
        {
          "output_type": "execute_result",
          "data": {
            "text/html": [
              "<div>\n",
              "<style scoped>\n",
              "    .dataframe tbody tr th:only-of-type {\n",
              "        vertical-align: middle;\n",
              "    }\n",
              "\n",
              "    .dataframe tbody tr th {\n",
              "        vertical-align: top;\n",
              "    }\n",
              "\n",
              "    .dataframe thead th {\n",
              "        text-align: right;\n",
              "    }\n",
              "</style>\n",
              "<table border=\"1\" class=\"dataframe\">\n",
              "  <thead>\n",
              "    <tr style=\"text-align: right;\">\n",
              "      <th></th>\n",
              "      <th>count</th>\n",
              "      <th>mean</th>\n",
              "      <th>std</th>\n",
              "      <th>min</th>\n",
              "      <th>25%</th>\n",
              "      <th>50%</th>\n",
              "      <th>75%</th>\n",
              "      <th>max</th>\n",
              "    </tr>\n",
              "  </thead>\n",
              "  <tbody>\n",
              "    <tr>\n",
              "      <th>ID</th>\n",
              "      <td>5000.0</td>\n",
              "      <td>2500.500000</td>\n",
              "      <td>1443.520003</td>\n",
              "      <td>1.0</td>\n",
              "      <td>1250.75</td>\n",
              "      <td>2500.5</td>\n",
              "      <td>3750.25</td>\n",
              "      <td>5000.0</td>\n",
              "    </tr>\n",
              "    <tr>\n",
              "      <th>Age</th>\n",
              "      <td>5000.0</td>\n",
              "      <td>45.338400</td>\n",
              "      <td>11.463166</td>\n",
              "      <td>23.0</td>\n",
              "      <td>35.00</td>\n",
              "      <td>45.0</td>\n",
              "      <td>55.00</td>\n",
              "      <td>67.0</td>\n",
              "    </tr>\n",
              "    <tr>\n",
              "      <th>Experience</th>\n",
              "      <td>5000.0</td>\n",
              "      <td>20.104600</td>\n",
              "      <td>11.467954</td>\n",
              "      <td>-3.0</td>\n",
              "      <td>10.00</td>\n",
              "      <td>20.0</td>\n",
              "      <td>30.00</td>\n",
              "      <td>43.0</td>\n",
              "    </tr>\n",
              "    <tr>\n",
              "      <th>Income</th>\n",
              "      <td>5000.0</td>\n",
              "      <td>73.774200</td>\n",
              "      <td>46.033729</td>\n",
              "      <td>8.0</td>\n",
              "      <td>39.00</td>\n",
              "      <td>64.0</td>\n",
              "      <td>98.00</td>\n",
              "      <td>224.0</td>\n",
              "    </tr>\n",
              "    <tr>\n",
              "      <th>ZIPCode</th>\n",
              "      <td>5000.0</td>\n",
              "      <td>93152.503000</td>\n",
              "      <td>2121.852197</td>\n",
              "      <td>9307.0</td>\n",
              "      <td>91911.00</td>\n",
              "      <td>93437.0</td>\n",
              "      <td>94608.00</td>\n",
              "      <td>96651.0</td>\n",
              "    </tr>\n",
              "    <tr>\n",
              "      <th>Family</th>\n",
              "      <td>5000.0</td>\n",
              "      <td>2.396400</td>\n",
              "      <td>1.147663</td>\n",
              "      <td>1.0</td>\n",
              "      <td>1.00</td>\n",
              "      <td>2.0</td>\n",
              "      <td>3.00</td>\n",
              "      <td>4.0</td>\n",
              "    </tr>\n",
              "    <tr>\n",
              "      <th>CCAvg</th>\n",
              "      <td>5000.0</td>\n",
              "      <td>1.937938</td>\n",
              "      <td>1.747659</td>\n",
              "      <td>0.0</td>\n",
              "      <td>0.70</td>\n",
              "      <td>1.5</td>\n",
              "      <td>2.50</td>\n",
              "      <td>10.0</td>\n",
              "    </tr>\n",
              "    <tr>\n",
              "      <th>Education</th>\n",
              "      <td>5000.0</td>\n",
              "      <td>1.881000</td>\n",
              "      <td>0.839869</td>\n",
              "      <td>1.0</td>\n",
              "      <td>1.00</td>\n",
              "      <td>2.0</td>\n",
              "      <td>3.00</td>\n",
              "      <td>3.0</td>\n",
              "    </tr>\n",
              "    <tr>\n",
              "      <th>Mortgage</th>\n",
              "      <td>5000.0</td>\n",
              "      <td>56.498800</td>\n",
              "      <td>101.713802</td>\n",
              "      <td>0.0</td>\n",
              "      <td>0.00</td>\n",
              "      <td>0.0</td>\n",
              "      <td>101.00</td>\n",
              "      <td>635.0</td>\n",
              "    </tr>\n",
              "    <tr>\n",
              "      <th>PersonalLoan</th>\n",
              "      <td>5000.0</td>\n",
              "      <td>0.096000</td>\n",
              "      <td>0.294621</td>\n",
              "      <td>0.0</td>\n",
              "      <td>0.00</td>\n",
              "      <td>0.0</td>\n",
              "      <td>0.00</td>\n",
              "      <td>1.0</td>\n",
              "    </tr>\n",
              "    <tr>\n",
              "      <th>Securities Account</th>\n",
              "      <td>5000.0</td>\n",
              "      <td>0.104400</td>\n",
              "      <td>0.305809</td>\n",
              "      <td>0.0</td>\n",
              "      <td>0.00</td>\n",
              "      <td>0.0</td>\n",
              "      <td>0.00</td>\n",
              "      <td>1.0</td>\n",
              "    </tr>\n",
              "    <tr>\n",
              "      <th>CD Account</th>\n",
              "      <td>5000.0</td>\n",
              "      <td>0.060400</td>\n",
              "      <td>0.238250</td>\n",
              "      <td>0.0</td>\n",
              "      <td>0.00</td>\n",
              "      <td>0.0</td>\n",
              "      <td>0.00</td>\n",
              "      <td>1.0</td>\n",
              "    </tr>\n",
              "    <tr>\n",
              "      <th>Online</th>\n",
              "      <td>5000.0</td>\n",
              "      <td>0.596800</td>\n",
              "      <td>0.490589</td>\n",
              "      <td>0.0</td>\n",
              "      <td>0.00</td>\n",
              "      <td>1.0</td>\n",
              "      <td>1.00</td>\n",
              "      <td>1.0</td>\n",
              "    </tr>\n",
              "    <tr>\n",
              "      <th>CreditCard</th>\n",
              "      <td>5000.0</td>\n",
              "      <td>0.294000</td>\n",
              "      <td>0.455637</td>\n",
              "      <td>0.0</td>\n",
              "      <td>0.00</td>\n",
              "      <td>0.0</td>\n",
              "      <td>1.00</td>\n",
              "      <td>1.0</td>\n",
              "    </tr>\n",
              "  </tbody>\n",
              "</table>\n",
              "</div>"
            ],
            "text/plain": [
              "                     count          mean  ...       75%      max\n",
              "ID                  5000.0   2500.500000  ...   3750.25   5000.0\n",
              "Age                 5000.0     45.338400  ...     55.00     67.0\n",
              "Experience          5000.0     20.104600  ...     30.00     43.0\n",
              "Income              5000.0     73.774200  ...     98.00    224.0\n",
              "ZIPCode             5000.0  93152.503000  ...  94608.00  96651.0\n",
              "Family              5000.0      2.396400  ...      3.00      4.0\n",
              "CCAvg               5000.0      1.937938  ...      2.50     10.0\n",
              "Education           5000.0      1.881000  ...      3.00      3.0\n",
              "Mortgage            5000.0     56.498800  ...    101.00    635.0\n",
              "PersonalLoan        5000.0      0.096000  ...      0.00      1.0\n",
              "Securities Account  5000.0      0.104400  ...      0.00      1.0\n",
              "CD Account          5000.0      0.060400  ...      0.00      1.0\n",
              "Online              5000.0      0.596800  ...      1.00      1.0\n",
              "CreditCard          5000.0      0.294000  ...      1.00      1.0\n",
              "\n",
              "[14 rows x 8 columns]"
            ]
          },
          "metadata": {
            "tags": []
          },
          "execution_count": 6
        }
      ]
    },
    {
      "cell_type": "markdown",
      "metadata": {
        "id": "twJph7D38DBt",
        "colab_type": "text"
      },
      "source": [
        "**Observation**\n",
        "\n",
        "The Column \"Experience\" has some negative value, other column values are considered clean."
      ]
    },
    {
      "cell_type": "code",
      "metadata": {
        "id": "DDy7g77f8OXG",
        "colab_type": "code",
        "outputId": "84dfc9b9-fe6a-4610-efd9-bd1a984c8f38",
        "colab": {
          "base_uri": "https://localhost:8080/",
          "height": 34
        }
      },
      "source": [
        "df[df['Experience'] < 0]['Experience'].count()\n",
        "# 52 values that are negative"
      ],
      "execution_count": 0,
      "outputs": [
        {
          "output_type": "execute_result",
          "data": {
            "text/plain": [
              "52"
            ]
          },
          "metadata": {
            "tags": []
          },
          "execution_count": 7
        }
      ]
    },
    {
      "cell_type": "code",
      "metadata": {
        "id": "CK0_2__l8SGP",
        "colab_type": "code",
        "outputId": "0fed1b84-01b4-4273-9277-e1e278936e6f",
        "colab": {
          "base_uri": "https://localhost:8080/",
          "height": 67
        }
      },
      "source": [
        "dfExp = df.loc[df['Experience'] >0]\n",
        "negExp = df.Experience < 0\n",
        "column_name = 'Experience'\n",
        "mylist = df.loc[negExp]['ID'].tolist()\n",
        "\n",
        "negExp.value_counts()"
      ],
      "execution_count": 0,
      "outputs": [
        {
          "output_type": "execute_result",
          "data": {
            "text/plain": [
              "False    4948\n",
              "True       52\n",
              "Name: Experience, dtype: int64"
            ]
          },
          "metadata": {
            "tags": []
          },
          "execution_count": 8
        }
      ]
    },
    {
      "cell_type": "markdown",
      "metadata": {
        "id": "jsEHFbwP8W99",
        "colab_type": "text"
      },
      "source": [
        "**The following codes does the below steps:**\n",
        "\n",
        "• For the record with the ID, get the value of Age column\n",
        "\n",
        "• For the record with the ID, get the value of Education column\n",
        "\n",
        "• Filter the records matching the above criteria from the data frame which has records with positive experience and take the median\n",
        "\n",
        "• Apply the median back to the location which had negative experience"
      ]
    },
    {
      "cell_type": "code",
      "metadata": {
        "id": "K03K7jKD8myQ",
        "colab_type": "code",
        "outputId": "5d6bbd8b-3c99-48c9-d7ab-ab3c20958ca5",
        "colab": {
          "base_uri": "https://localhost:8080/",
          "height": 70
        }
      },
      "source": [
        "import numpy as np\n",
        "import matplotlib.pyplot as plot\n",
        "import seaborn as sns\n",
        "%matplotlib inline\n",
        "sns.set(color_codes = True)\n",
        "\n",
        "import os\n"
      ],
      "execution_count": 0,
      "outputs": [
        {
          "output_type": "stream",
          "text": [
            "/usr/local/lib/python3.6/dist-packages/statsmodels/tools/_testing.py:19: FutureWarning: pandas.util.testing is deprecated. Use the functions in the public API at pandas.testing instead.\n",
            "  import pandas.util.testing as tm\n"
          ],
          "name": "stderr"
        }
      ]
    },
    {
      "cell_type": "code",
      "metadata": {
        "id": "Z_R34ouj8xz0",
        "colab_type": "code",
        "outputId": "7e3da887-9db2-4602-ae39-d91e0bf24f26",
        "colab": {
          "base_uri": "https://localhost:8080/",
          "height": 462
        }
      },
      "source": [
        "df.describe().transpose()\n"
      ],
      "execution_count": 0,
      "outputs": [
        {
          "output_type": "execute_result",
          "data": {
            "text/html": [
              "<div>\n",
              "<style scoped>\n",
              "    .dataframe tbody tr th:only-of-type {\n",
              "        vertical-align: middle;\n",
              "    }\n",
              "\n",
              "    .dataframe tbody tr th {\n",
              "        vertical-align: top;\n",
              "    }\n",
              "\n",
              "    .dataframe thead th {\n",
              "        text-align: right;\n",
              "    }\n",
              "</style>\n",
              "<table border=\"1\" class=\"dataframe\">\n",
              "  <thead>\n",
              "    <tr style=\"text-align: right;\">\n",
              "      <th></th>\n",
              "      <th>count</th>\n",
              "      <th>mean</th>\n",
              "      <th>std</th>\n",
              "      <th>min</th>\n",
              "      <th>25%</th>\n",
              "      <th>50%</th>\n",
              "      <th>75%</th>\n",
              "      <th>max</th>\n",
              "    </tr>\n",
              "  </thead>\n",
              "  <tbody>\n",
              "    <tr>\n",
              "      <th>ID</th>\n",
              "      <td>5000.0</td>\n",
              "      <td>2500.500000</td>\n",
              "      <td>1443.520003</td>\n",
              "      <td>1.0</td>\n",
              "      <td>1250.75</td>\n",
              "      <td>2500.5</td>\n",
              "      <td>3750.25</td>\n",
              "      <td>5000.0</td>\n",
              "    </tr>\n",
              "    <tr>\n",
              "      <th>Age</th>\n",
              "      <td>5000.0</td>\n",
              "      <td>45.338400</td>\n",
              "      <td>11.463166</td>\n",
              "      <td>23.0</td>\n",
              "      <td>35.00</td>\n",
              "      <td>45.0</td>\n",
              "      <td>55.00</td>\n",
              "      <td>67.0</td>\n",
              "    </tr>\n",
              "    <tr>\n",
              "      <th>Experience</th>\n",
              "      <td>5000.0</td>\n",
              "      <td>20.104600</td>\n",
              "      <td>11.467954</td>\n",
              "      <td>-3.0</td>\n",
              "      <td>10.00</td>\n",
              "      <td>20.0</td>\n",
              "      <td>30.00</td>\n",
              "      <td>43.0</td>\n",
              "    </tr>\n",
              "    <tr>\n",
              "      <th>Income</th>\n",
              "      <td>5000.0</td>\n",
              "      <td>73.774200</td>\n",
              "      <td>46.033729</td>\n",
              "      <td>8.0</td>\n",
              "      <td>39.00</td>\n",
              "      <td>64.0</td>\n",
              "      <td>98.00</td>\n",
              "      <td>224.0</td>\n",
              "    </tr>\n",
              "    <tr>\n",
              "      <th>ZIPCode</th>\n",
              "      <td>5000.0</td>\n",
              "      <td>93152.503000</td>\n",
              "      <td>2121.852197</td>\n",
              "      <td>9307.0</td>\n",
              "      <td>91911.00</td>\n",
              "      <td>93437.0</td>\n",
              "      <td>94608.00</td>\n",
              "      <td>96651.0</td>\n",
              "    </tr>\n",
              "    <tr>\n",
              "      <th>Family</th>\n",
              "      <td>5000.0</td>\n",
              "      <td>2.396400</td>\n",
              "      <td>1.147663</td>\n",
              "      <td>1.0</td>\n",
              "      <td>1.00</td>\n",
              "      <td>2.0</td>\n",
              "      <td>3.00</td>\n",
              "      <td>4.0</td>\n",
              "    </tr>\n",
              "    <tr>\n",
              "      <th>CCAvg</th>\n",
              "      <td>5000.0</td>\n",
              "      <td>1.937938</td>\n",
              "      <td>1.747659</td>\n",
              "      <td>0.0</td>\n",
              "      <td>0.70</td>\n",
              "      <td>1.5</td>\n",
              "      <td>2.50</td>\n",
              "      <td>10.0</td>\n",
              "    </tr>\n",
              "    <tr>\n",
              "      <th>Education</th>\n",
              "      <td>5000.0</td>\n",
              "      <td>1.881000</td>\n",
              "      <td>0.839869</td>\n",
              "      <td>1.0</td>\n",
              "      <td>1.00</td>\n",
              "      <td>2.0</td>\n",
              "      <td>3.00</td>\n",
              "      <td>3.0</td>\n",
              "    </tr>\n",
              "    <tr>\n",
              "      <th>Mortgage</th>\n",
              "      <td>5000.0</td>\n",
              "      <td>56.498800</td>\n",
              "      <td>101.713802</td>\n",
              "      <td>0.0</td>\n",
              "      <td>0.00</td>\n",
              "      <td>0.0</td>\n",
              "      <td>101.00</td>\n",
              "      <td>635.0</td>\n",
              "    </tr>\n",
              "    <tr>\n",
              "      <th>PersonalLoan</th>\n",
              "      <td>5000.0</td>\n",
              "      <td>0.096000</td>\n",
              "      <td>0.294621</td>\n",
              "      <td>0.0</td>\n",
              "      <td>0.00</td>\n",
              "      <td>0.0</td>\n",
              "      <td>0.00</td>\n",
              "      <td>1.0</td>\n",
              "    </tr>\n",
              "    <tr>\n",
              "      <th>Securities Account</th>\n",
              "      <td>5000.0</td>\n",
              "      <td>0.104400</td>\n",
              "      <td>0.305809</td>\n",
              "      <td>0.0</td>\n",
              "      <td>0.00</td>\n",
              "      <td>0.0</td>\n",
              "      <td>0.00</td>\n",
              "      <td>1.0</td>\n",
              "    </tr>\n",
              "    <tr>\n",
              "      <th>CD Account</th>\n",
              "      <td>5000.0</td>\n",
              "      <td>0.060400</td>\n",
              "      <td>0.238250</td>\n",
              "      <td>0.0</td>\n",
              "      <td>0.00</td>\n",
              "      <td>0.0</td>\n",
              "      <td>0.00</td>\n",
              "      <td>1.0</td>\n",
              "    </tr>\n",
              "    <tr>\n",
              "      <th>Online</th>\n",
              "      <td>5000.0</td>\n",
              "      <td>0.596800</td>\n",
              "      <td>0.490589</td>\n",
              "      <td>0.0</td>\n",
              "      <td>0.00</td>\n",
              "      <td>1.0</td>\n",
              "      <td>1.00</td>\n",
              "      <td>1.0</td>\n",
              "    </tr>\n",
              "    <tr>\n",
              "      <th>CreditCard</th>\n",
              "      <td>5000.0</td>\n",
              "      <td>0.294000</td>\n",
              "      <td>0.455637</td>\n",
              "      <td>0.0</td>\n",
              "      <td>0.00</td>\n",
              "      <td>0.0</td>\n",
              "      <td>1.00</td>\n",
              "      <td>1.0</td>\n",
              "    </tr>\n",
              "  </tbody>\n",
              "</table>\n",
              "</div>"
            ],
            "text/plain": [
              "                     count          mean  ...       75%      max\n",
              "ID                  5000.0   2500.500000  ...   3750.25   5000.0\n",
              "Age                 5000.0     45.338400  ...     55.00     67.0\n",
              "Experience          5000.0     20.104600  ...     30.00     43.0\n",
              "Income              5000.0     73.774200  ...     98.00    224.0\n",
              "ZIPCode             5000.0  93152.503000  ...  94608.00  96651.0\n",
              "Family              5000.0      2.396400  ...      3.00      4.0\n",
              "CCAvg               5000.0      1.937938  ...      2.50     10.0\n",
              "Education           5000.0      1.881000  ...      3.00      3.0\n",
              "Mortgage            5000.0     56.498800  ...    101.00    635.0\n",
              "PersonalLoan        5000.0      0.096000  ...      0.00      1.0\n",
              "Securities Account  5000.0      0.104400  ...      0.00      1.0\n",
              "CD Account          5000.0      0.060400  ...      0.00      1.0\n",
              "Online              5000.0      0.596800  ...      1.00      1.0\n",
              "CreditCard          5000.0      0.294000  ...      1.00      1.0\n",
              "\n",
              "[14 rows x 8 columns]"
            ]
          },
          "metadata": {
            "tags": []
          },
          "execution_count": 10
        }
      ]
    },
    {
      "cell_type": "markdown",
      "metadata": {
        "id": "qChbP98A_ocz",
        "colab_type": "text"
      },
      "source": [
        "Negative values under \"Experience\" has been removed."
      ]
    },
    {
      "cell_type": "code",
      "metadata": {
        "id": "57eqs0wy81SH",
        "colab_type": "code",
        "outputId": "b0d62379-e0b1-4dd9-cfdf-2ae919462192",
        "colab": {
          "base_uri": "https://localhost:8080/",
          "height": 269
        }
      },
      "source": [
        "df.nunique()"
      ],
      "execution_count": 0,
      "outputs": [
        {
          "output_type": "execute_result",
          "data": {
            "text/plain": [
              "ID                    5000\n",
              "Age                     45\n",
              "Experience              47\n",
              "Income                 162\n",
              "ZIPCode                467\n",
              "Family                   4\n",
              "CCAvg                  108\n",
              "Education                3\n",
              "Mortgage               347\n",
              "PersonalLoan             2\n",
              "Securities Account       2\n",
              "CD Account               2\n",
              "Online                   2\n",
              "CreditCard               2\n",
              "dtype: int64"
            ]
          },
          "metadata": {
            "tags": []
          },
          "execution_count": 11
        }
      ]
    },
    {
      "cell_type": "markdown",
      "metadata": {
        "id": "XDu-iULh-P7D",
        "colab_type": "text"
      },
      "source": [
        "Let's see if we can create some models. \n",
        "\n"
      ]
    },
    {
      "cell_type": "markdown",
      "metadata": {
        "id": "rdfxjUY3xrxo",
        "colab_type": "text"
      },
      "source": [
        "Lets find the quantitive variable with strong association with 'Experience'"
      ]
    },
    {
      "cell_type": "code",
      "metadata": {
        "id": "zqbgjuE4N_MZ",
        "colab_type": "code",
        "outputId": "14e51ae1-c3b9-4a7e-edc3-159bf6ff568a",
        "colab": {
          "base_uri": "https://localhost:8080/",
          "height": 287
        }
      },
      "source": [
        "fig, [ax0, ax1, ax2, ax3] = plot.subplots(1,4, figsize = (14,4))\n",
        "\n",
        "ax0.hist(df.Age)\n",
        "ax0.set_xlabel('Age distribution')\n",
        "ax0.axvline(df.Age.mean(), color = \"black\")\n",
        "\n",
        "ax1.hist(df.Education)\n",
        "ax1.set_xlabel('Education distribution')\n",
        "ax1.axvline(0, color = \"black\");\n",
        "\n",
        "ax2.hist(df.Income)\n",
        "ax2.set_xlabel('Income distribution')\n",
        "ax2.axvline(df.Income.mean(), color = \"black\");\n",
        "\n",
        "ax3.hist(df.Online)\n",
        "ax3.set_xlabel('Online distribution')\n",
        "ax3.axvline(0, color = \"black\");"
      ],
      "execution_count": 0,
      "outputs": [
        {
          "output_type": "display_data",
          "data": {
            "image/png": "[encoded data removed]",
            "text/plain": [
              "<Figure size 1008x288 with 4 Axes>"
            ]
          },
          "metadata": {
            "tags": []
          }
        }
      ]
    },
    {
      "cell_type": "markdown",
      "metadata": {
        "id": "8_em59qJMw5w",
        "colab_type": "text"
      },
      "source": [
        "**Age:** 35, 45, and 55yrs represents majority of the customers\n",
        "\n",
        "**Education:** About half of the customers are undergradutes, which represents 2300 people.\n",
        "\n",
        "**Income:** Average income bracket for customers is $50k\n",
        "\n",
        "**Online:** About 60% of customers (2800) use online banking facilities."
      ]
    },
    {
      "cell_type": "markdown",
      "metadata": {
        "id": "SG7pom-ILT4C",
        "colab_type": "text"
      },
      "source": [
        "**To what degree does family size affect credit card spending?**"
      ]
    },
    {
      "cell_type": "code",
      "metadata": {
        "id": "zHwvZdJkWC6-",
        "colab_type": "code",
        "outputId": "c6cd98d0-fc98-4256-ca8e-aff454120cda",
        "colab": {
          "base_uri": "https://localhost:8080/",
          "height": 669
        }
      },
      "source": [
        "df_loan_accept=df[df['PersonalLoan']==1]\n",
        "sns.set_style('darkgrid')\n",
        "g=sns.FacetGrid(df,row='Education',col='Family',hue='PersonalLoan',palette='Set2')\n",
        "g=g.map(plot.hist, 'CCAvg', alpha=0.5)\n",
        "plot.legend(bbox_to_anchor=(1.7,3))"
      ],
      "execution_count": 0,
      "outputs": [
        {
          "output_type": "execute_result",
          "data": {
            "text/plain": [
              "<matplotlib.legend.Legend at 0x7fc134fcf4a8>"
            ]
          },
          "metadata": {
            "tags": []
          },
          "execution_count": 13
        },
        {
          "output_type": "display_data",
          "data": {
            "image/png": "[encoded data removed]",
            "text/plain": [
              "<Figure size 864x648 with 12 Axes>"
            ]
          },
          "metadata": {
            "tags": []
          }
        }
      ]
    },
    {
      "cell_type": "markdown",
      "metadata": {
        "id": "vIDsmL_ZYd27",
        "colab_type": "text"
      },
      "source": [
        "It can be inferred that usually Undergraduates with a small family do not tend apply for a loan."
      ]
    },
    {
      "cell_type": "code",
      "metadata": {
        "id": "RWaynfsNobid",
        "colab_type": "code",
        "outputId": "efd8b9a5-00fd-4d96-f91e-4fdd5731b6bd",
        "colab": {
          "base_uri": "https://localhost:8080/",
          "height": 302
        }
      },
      "source": [
        "sns.countplot(x='Family',data=df,hue='PersonalLoan',palette='Set2')"
      ],
      "execution_count": 0,
      "outputs": [
        {
          "output_type": "execute_result",
          "data": {
            "text/plain": [
              "<matplotlib.axes._subplots.AxesSubplot at 0x7fc126152978>"
            ]
          },
          "metadata": {
            "tags": []
          },
          "execution_count": 14
        },
        {
          "output_type": "display_data",
          "data": {
            "image/png": "[encoded data removed]",
            "text/plain": [
              "<Figure size 432x288 with 1 Axes>"
            ]
          },
          "metadata": {
            "tags": []
          }
        }
      ]
    },
    {
      "cell_type": "markdown",
      "metadata": {
        "id": "fg6YiJfopJhQ",
        "colab_type": "text"
      },
      "source": [
        "Family size does not have any impact on personal loan. But it seems families with size of 3 are more likely to take a loan. When considering future campaign this might be good association."
      ]
    },
    {
      "cell_type": "markdown",
      "metadata": {
        "id": "LJhBAv4feTo4",
        "colab_type": "text"
      },
      "source": [
        "Summary of the Top 3 Zipcodes that represent the highest number of customers"
      ]
    },
    {
      "cell_type": "code",
      "metadata": {
        "id": "uSXZjfxEdJHl",
        "colab_type": "code",
        "outputId": "e2e39129-e2e0-4f1b-8b52-62e7f233b52f",
        "colab": {
          "base_uri": "https://localhost:8080/",
          "height": 438
        }
      },
      "source": [
        "df_top_zip= df['ZIPCode'].value_counts()\n",
        "\n",
        "df_top_zip= df_top_zip.reset_index(drop = False) \n",
        "df_top_zip.columns = ['ZIPCode', 'accts']\n",
        "df_top_zip_3 = df_top_zip.head(3)\n",
        "\n",
        "new_df = pd.merge(df, df_top_zip_3, on='ZIPCode')\n",
        "new_df"
      ],
      "execution_count": 0,
      "outputs": [
        {
          "output_type": "execute_result",
          "data": {
            "text/html": [
              "<div>\n",
              "<style scoped>\n",
              "    .dataframe tbody tr th:only-of-type {\n",
              "        vertical-align: middle;\n",
              "    }\n",
              "\n",
              "    .dataframe tbody tr th {\n",
              "        vertical-align: top;\n",
              "    }\n",
              "\n",
              "    .dataframe thead th {\n",
              "        text-align: right;\n",
              "    }\n",
              "</style>\n",
              "<table border=\"1\" class=\"dataframe\">\n",
              "  <thead>\n",
              "    <tr style=\"text-align: right;\">\n",
              "      <th></th>\n",
              "      <th>ID</th>\n",
              "      <th>Age</th>\n",
              "      <th>Experience</th>\n",
              "      <th>Income</th>\n",
              "      <th>ZIPCode</th>\n",
              "      <th>Family</th>\n",
              "      <th>CCAvg</th>\n",
              "      <th>Education</th>\n",
              "      <th>Mortgage</th>\n",
              "      <th>PersonalLoan</th>\n",
              "      <th>Securities Account</th>\n",
              "      <th>CD Account</th>\n",
              "      <th>Online</th>\n",
              "      <th>CreditCard</th>\n",
              "      <th>accts</th>\n",
              "    </tr>\n",
              "  </thead>\n",
              "  <tbody>\n",
              "    <tr>\n",
              "      <th>0</th>\n",
              "      <td>3</td>\n",
              "      <td>39</td>\n",
              "      <td>15</td>\n",
              "      <td>11</td>\n",
              "      <td>94720</td>\n",
              "      <td>1</td>\n",
              "      <td>1.0</td>\n",
              "      <td>1</td>\n",
              "      <td>0</td>\n",
              "      <td>0</td>\n",
              "      <td>0</td>\n",
              "      <td>0</td>\n",
              "      <td>0</td>\n",
              "      <td>0</td>\n",
              "      <td>169</td>\n",
              "    </tr>\n",
              "    <tr>\n",
              "      <th>1</th>\n",
              "      <td>20</td>\n",
              "      <td>55</td>\n",
              "      <td>28</td>\n",
              "      <td>21</td>\n",
              "      <td>94720</td>\n",
              "      <td>1</td>\n",
              "      <td>0.5</td>\n",
              "      <td>2</td>\n",
              "      <td>0</td>\n",
              "      <td>0</td>\n",
              "      <td>1</td>\n",
              "      <td>0</td>\n",
              "      <td>0</td>\n",
              "      <td>1</td>\n",
              "      <td>169</td>\n",
              "    </tr>\n",
              "    <tr>\n",
              "      <th>2</th>\n",
              "      <td>37</td>\n",
              "      <td>59</td>\n",
              "      <td>35</td>\n",
              "      <td>121</td>\n",
              "      <td>94720</td>\n",
              "      <td>1</td>\n",
              "      <td>2.9</td>\n",
              "      <td>1</td>\n",
              "      <td>0</td>\n",
              "      <td>0</td>\n",
              "      <td>0</td>\n",
              "      <td>0</td>\n",
              "      <td>0</td>\n",
              "      <td>1</td>\n",
              "      <td>169</td>\n",
              "    </tr>\n",
              "    <tr>\n",
              "      <th>3</th>\n",
              "      <td>46</td>\n",
              "      <td>57</td>\n",
              "      <td>31</td>\n",
              "      <td>52</td>\n",
              "      <td>94720</td>\n",
              "      <td>4</td>\n",
              "      <td>2.5</td>\n",
              "      <td>1</td>\n",
              "      <td>0</td>\n",
              "      <td>0</td>\n",
              "      <td>0</td>\n",
              "      <td>0</td>\n",
              "      <td>0</td>\n",
              "      <td>1</td>\n",
              "      <td>169</td>\n",
              "    </tr>\n",
              "    <tr>\n",
              "      <th>4</th>\n",
              "      <td>52</td>\n",
              "      <td>61</td>\n",
              "      <td>37</td>\n",
              "      <td>131</td>\n",
              "      <td>94720</td>\n",
              "      <td>1</td>\n",
              "      <td>2.9</td>\n",
              "      <td>1</td>\n",
              "      <td>0</td>\n",
              "      <td>0</td>\n",
              "      <td>0</td>\n",
              "      <td>0</td>\n",
              "      <td>1</td>\n",
              "      <td>0</td>\n",
              "      <td>169</td>\n",
              "    </tr>\n",
              "    <tr>\n",
              "      <th>...</th>\n",
              "      <td>...</td>\n",
              "      <td>...</td>\n",
              "      <td>...</td>\n",
              "      <td>...</td>\n",
              "      <td>...</td>\n",
              "      <td>...</td>\n",
              "      <td>...</td>\n",
              "      <td>...</td>\n",
              "      <td>...</td>\n",
              "      <td>...</td>\n",
              "      <td>...</td>\n",
              "      <td>...</td>\n",
              "      <td>...</td>\n",
              "      <td>...</td>\n",
              "      <td>...</td>\n",
              "    </tr>\n",
              "    <tr>\n",
              "      <th>407</th>\n",
              "      <td>4831</td>\n",
              "      <td>37</td>\n",
              "      <td>12</td>\n",
              "      <td>60</td>\n",
              "      <td>95616</td>\n",
              "      <td>4</td>\n",
              "      <td>2.1</td>\n",
              "      <td>3</td>\n",
              "      <td>217</td>\n",
              "      <td>0</td>\n",
              "      <td>0</td>\n",
              "      <td>0</td>\n",
              "      <td>1</td>\n",
              "      <td>0</td>\n",
              "      <td>116</td>\n",
              "    </tr>\n",
              "    <tr>\n",
              "      <th>408</th>\n",
              "      <td>4862</td>\n",
              "      <td>49</td>\n",
              "      <td>24</td>\n",
              "      <td>18</td>\n",
              "      <td>95616</td>\n",
              "      <td>1</td>\n",
              "      <td>0.4</td>\n",
              "      <td>3</td>\n",
              "      <td>121</td>\n",
              "      <td>0</td>\n",
              "      <td>0</td>\n",
              "      <td>0</td>\n",
              "      <td>1</td>\n",
              "      <td>0</td>\n",
              "      <td>116</td>\n",
              "    </tr>\n",
              "    <tr>\n",
              "      <th>409</th>\n",
              "      <td>4872</td>\n",
              "      <td>46</td>\n",
              "      <td>22</td>\n",
              "      <td>53</td>\n",
              "      <td>95616</td>\n",
              "      <td>4</td>\n",
              "      <td>1.9</td>\n",
              "      <td>1</td>\n",
              "      <td>187</td>\n",
              "      <td>0</td>\n",
              "      <td>0</td>\n",
              "      <td>0</td>\n",
              "      <td>0</td>\n",
              "      <td>0</td>\n",
              "      <td>116</td>\n",
              "    </tr>\n",
              "    <tr>\n",
              "      <th>410</th>\n",
              "      <td>4918</td>\n",
              "      <td>36</td>\n",
              "      <td>10</td>\n",
              "      <td>33</td>\n",
              "      <td>95616</td>\n",
              "      <td>4</td>\n",
              "      <td>1.2</td>\n",
              "      <td>2</td>\n",
              "      <td>82</td>\n",
              "      <td>0</td>\n",
              "      <td>1</td>\n",
              "      <td>0</td>\n",
              "      <td>1</td>\n",
              "      <td>0</td>\n",
              "      <td>116</td>\n",
              "    </tr>\n",
              "    <tr>\n",
              "      <th>411</th>\n",
              "      <td>4932</td>\n",
              "      <td>57</td>\n",
              "      <td>27</td>\n",
              "      <td>55</td>\n",
              "      <td>95616</td>\n",
              "      <td>1</td>\n",
              "      <td>1.4</td>\n",
              "      <td>3</td>\n",
              "      <td>0</td>\n",
              "      <td>0</td>\n",
              "      <td>0</td>\n",
              "      <td>0</td>\n",
              "      <td>1</td>\n",
              "      <td>0</td>\n",
              "      <td>116</td>\n",
              "    </tr>\n",
              "  </tbody>\n",
              "</table>\n",
              "<p>412 rows × 15 columns</p>\n",
              "</div>"
            ],
            "text/plain": [
              "       ID  Age  Experience  Income  ...  CD Account  Online  CreditCard  accts\n",
              "0       3   39          15      11  ...           0       0           0    169\n",
              "1      20   55          28      21  ...           0       0           1    169\n",
              "2      37   59          35     121  ...           0       0           1    169\n",
              "3      46   57          31      52  ...           0       0           1    169\n",
              "4      52   61          37     131  ...           0       1           0    169\n",
              "..    ...  ...         ...     ...  ...         ...     ...         ...    ...\n",
              "407  4831   37          12      60  ...           0       1           0    116\n",
              "408  4862   49          24      18  ...           0       1           0    116\n",
              "409  4872   46          22      53  ...           0       0           0    116\n",
              "410  4918   36          10      33  ...           0       1           0    116\n",
              "411  4932   57          27      55  ...           0       1           0    116\n",
              "\n",
              "[412 rows x 15 columns]"
            ]
          },
          "metadata": {
            "tags": []
          },
          "execution_count": 15
        }
      ]
    },
    {
      "cell_type": "code",
      "metadata": {
        "id": "VbWWGp1u82SC",
        "colab_type": "code",
        "outputId": "b10b5e37-9f0e-4ab5-c3cb-0166b7b56eb8",
        "colab": {
          "base_uri": "https://localhost:8080/",
          "height": 302
        }
      },
      "source": [
        "sns.boxplot(x=\"ZIPCode\", y=\"Income\", data=df[df.ZIPCode.isin([95616, 94720,94305]) ], hue= 'PersonalLoan', palette=\"Set2\")\n",
        " "
      ],
      "execution_count": 0,
      "outputs": [
        {
          "output_type": "execute_result",
          "data": {
            "text/plain": [
              "<matplotlib.axes._subplots.AxesSubplot at 0x7fc12605f160>"
            ]
          },
          "metadata": {
            "tags": []
          },
          "execution_count": 16
        },
        {
          "output_type": "display_data",
          "data": {
            "image/png": "[encoded data removed]",
            "text/plain": [
              "<Figure size 432x288 with 1 Axes>"
            ]
          },
          "metadata": {
            "tags": []
          }
        }
      ]
    },
    {
      "cell_type": "markdown",
      "metadata": {
        "id": "0sMcWNpiZ_Aw",
        "colab_type": "text"
      },
      "source": [
        "Yes Zip Code reflects the size of income. Customers who live in these zip codes are pegged in the highest income bracket. Unfortunately they also represent a large number of the bank customers who have already taken a Personal Loan from the bank. This will be relevant to investors in the housing market. Such data could be used to predict the quality of education in local school districts in surrounding zip codes, enabling houses to be priced higher."
      ]
    },
    {
      "cell_type": "markdown",
      "metadata": {
        "id": "fXi_xMJnjgy3",
        "colab_type": "text"
      },
      "source": [
        "**Is age a factor when considering customers who use online services at the bank?**"
      ]
    },
    {
      "cell_type": "code",
      "metadata": {
        "id": "dlGToE234leu",
        "colab_type": "code",
        "outputId": "d053f421-4849-424b-fd43-33018cd76489",
        "colab": {
          "base_uri": "https://localhost:8080/",
          "height": 302
        }
      },
      "source": [
        "sns.boxplot(x = 'Online', y = 'Age', data= df)"
      ],
      "execution_count": 0,
      "outputs": [
        {
          "output_type": "execute_result",
          "data": {
            "text/plain": [
              "<matplotlib.axes._subplots.AxesSubplot at 0x7fc125f121d0>"
            ]
          },
          "metadata": {
            "tags": []
          },
          "execution_count": 17
        },
        {
          "output_type": "display_data",
          "data": {
            "image/png": "[encoded data removed]",
            "text/plain": [
              "<Figure size 432x288 with 1 Axes>"
            ]
          },
          "metadata": {
            "tags": []
          }
        }
      ]
    },
    {
      "cell_type": "markdown",
      "metadata": {
        "id": "J3nMVQGbkFLa",
        "colab_type": "text"
      },
      "source": [
        "Age is not a factor. About the same category of people who use online services at the bank also do not."
      ]
    },
    {
      "cell_type": "markdown",
      "metadata": {
        "id": "zOuLwWq9kWDe",
        "colab_type": "text"
      },
      "source": [
        "**Are college graduates likely to live in more expensive homes?**"
      ]
    },
    {
      "cell_type": "code",
      "metadata": {
        "id": "KUyrrOB9kaNb",
        "colab_type": "code",
        "outputId": "2a3fefa4-b398-4ac5-cf9c-f995c8766b53",
        "colab": {
          "base_uri": "https://localhost:8080/",
          "height": 302
        }
      },
      "source": [
        "sns.boxplot(x = 'Education', y = 'Mortgage', data= df)"
      ],
      "execution_count": 0,
      "outputs": [
        {
          "output_type": "execute_result",
          "data": {
            "text/plain": [
              "<matplotlib.axes._subplots.AxesSubplot at 0x7fc125e807f0>"
            ]
          },
          "metadata": {
            "tags": []
          },
          "execution_count": 18
        },
        {
          "output_type": "display_data",
          "data": {
            "image/png": "[encoded data removed]",
            "text/plain": [
              "<Figure size 432x288 with 1 Axes>"
            ]
          },
          "metadata": {
            "tags": []
          }
        }
      ]
    },
    {
      "cell_type": "markdown",
      "metadata": {
        "id": "eN-aF-DPlMfC",
        "colab_type": "text"
      },
      "source": [
        "Not neccesarily! "
      ]
    },
    {
      "cell_type": "markdown",
      "metadata": {
        "id": "i1qdkkJVmUmb",
        "colab_type": "text"
      },
      "source": [
        "**Observations**"
      ]
    },
    {
      "cell_type": "code",
      "metadata": {
        "id": "xOpbRMCXpeAE",
        "colab_type": "code",
        "outputId": "45f993ff-07fc-44a7-ad76-2d50d17efc10",
        "colab": {
          "base_uri": "https://localhost:8080/",
          "height": 302
        }
      },
      "source": [
        "sns.distplot( df[df.PersonalLoan == 0]['CCAvg'], color = 'r')\n",
        "sns.distplot( df[df.PersonalLoan == 1]['CCAvg'], color = 'g')"
      ],
      "execution_count": 0,
      "outputs": [
        {
          "output_type": "execute_result",
          "data": {
            "text/plain": [
              "<matplotlib.axes._subplots.AxesSubplot at 0x7fc125e124e0>"
            ]
          },
          "metadata": {
            "tags": []
          },
          "execution_count": 19
        },
        {
          "output_type": "display_data",
          "data": {
            "image/png": "[encoded data removed]",
            "text/plain": [
              "<Figure size 432x288 with 1 Axes>"
            ]
          },
          "metadata": {
            "tags": []
          }
        }
      ]
    },
    {
      "cell_type": "markdown",
      "metadata": {
        "id": "J7e2MqE6p1fJ",
        "colab_type": "text"
      },
      "source": [
        "The graph show persons who have personal loans have a higher credit card average. Average credit card spending with a median of 3800 dollar indicates a higher probability of personal loan. Lower credit card spending with a median of 1400 dollars is less likely to take a loan. This could be useful information."
      ]
    },
    {
      "cell_type": "code",
      "metadata": {
        "id": "Y7idYPfgqUoJ",
        "colab_type": "code",
        "outputId": "0623c098-ff91-446f-b57e-c1f39b6774d9",
        "colab": {
          "base_uri": "https://localhost:8080/",
          "height": 302
        }
      },
      "source": [
        "fig, ax = plot.subplots()\n",
        "colors = {1:'red',2:'yellow',3:'green'}\n",
        "ax.scatter(df['Experience'],df['Age'],c=df['Education'].apply(lambda x:colors[x]))\n",
        "plot.xlabel('Experience')\n",
        "plot.ylabel('Age')"
      ],
      "execution_count": 0,
      "outputs": [
        {
          "output_type": "execute_result",
          "data": {
            "text/plain": [
              "Text(0, 0.5, 'Age')"
            ]
          },
          "metadata": {
            "tags": []
          },
          "execution_count": 20
        },
        {
          "output_type": "display_data",
          "data": {
            "image/png": "[encoded data removed]",
            "text/plain": [
              "<Figure size 432x288 with 1 Axes>"
            ]
          },
          "metadata": {
            "tags": []
          }
        }
      ]
    },
    {
      "cell_type": "markdown",
      "metadata": {
        "id": "23Ng_P5MqiaP",
        "colab_type": "text"
      },
      "source": [
        "The plot shows that experience and age have a positive correlation. As experience increases age also increases. In addition, the colors show the education level. There is also a gap in age for customers in their mid forties."
      ]
    },
    {
      "cell_type": "markdown",
      "metadata": {
        "id": "MPASoxAqrPqi",
        "colab_type": "text"
      },
      "source": [
        "Correlation with heat map"
      ]
    },
    {
      "cell_type": "code",
      "metadata": {
        "id": "drXz3Z0KrTb6",
        "colab_type": "code",
        "outputId": "3cae17b9-1f16-435d-9543-7372eb97eab5",
        "colab": {
          "base_uri": "https://localhost:8080/",
          "height": 528
        }
      },
      "source": [
        "corr = df.corr()\n",
        "sns.set_context(\"notebook\", font_scale=1.0, rc={\"lines.linewidth\": 2.5})\n",
        "plot.figure(figsize=(13,7))\n",
        "# Let's create a mask\n",
        "mask = np.zeros_like(corr)\n",
        "mask[np.triu_indices_from(mask, 1)] = True\n",
        "a = sns.heatmap(corr,mask=mask, annot=True, fmt='.2f')\n",
        "rotx = a.set_xticklabels(a.get_xticklabels(), rotation=90)\n",
        "roty = a.set_yticklabels(a.get_yticklabels(), rotation=30)"
      ],
      "execution_count": 0,
      "outputs": [
        {
          "output_type": "display_data",
          "data": {
            "image/png": "[encoded data removed]",
            "text/plain": [
              "<Figure size 936x504 with 2 Axes>"
            ]
          },
          "metadata": {
            "tags": []
          }
        }
      ]
    },
    {
      "cell_type": "markdown",
      "metadata": {
        "id": "RhYp9W5grtL6",
        "colab_type": "text"
      },
      "source": [
        "*   Income and CCAvg is moderately correlated.\n",
        "*   Age and Experience is highly correlated.\n",
        "\n",
        "Let's check our confidence about the above statments with a logistic regression model:\n",
        "\n",
        "Since we found strong association between 'Age' and 'Experience' we decided to exclude 'Experience' from the analysis to avoid multicollinearity.\n",
        "\n",
        "Focus: ** Age, Income, CCAvg, and Mortgage**\n",
        "\n"
      ]
    },
    {
      "cell_type": "code",
      "metadata": {
        "id": "kCTF2w2OuE7j",
        "colab_type": "code",
        "colab": {}
      },
      "source": [
        "import statsmodels.api as sm"
      ],
      "execution_count": 0,
      "outputs": []
    },
    {
      "cell_type": "code",
      "metadata": {
        "id": "_4nFWWAVuG1c",
        "colab_type": "code",
        "outputId": "6e67fa3a-76f6-4bab-ba7d-5db70c80c381",
        "colab": {
          "base_uri": "https://localhost:8080/",
          "height": 67
        }
      },
      "source": [
        "quant_df = df[['PersonalLoan', 'Age', 'Income', 'CCAvg', 'Mortgage']].copy()\n",
        "quant_df['intercept'] = 1\n",
        "log_mod = sm.Logit(quant_df['PersonalLoan'], quant_df[['intercept', 'Age', 'Income', 'CCAvg', 'Mortgage']]).fit()\n"
      ],
      "execution_count": 0,
      "outputs": [
        {
          "output_type": "stream",
          "text": [
            "Optimization terminated successfully.\n",
            "         Current function value: 0.200574\n",
            "         Iterations 8\n"
          ],
          "name": "stdout"
        }
      ]
    },
    {
      "cell_type": "markdown",
      "metadata": {
        "id": "ICwWlo0ZIr-g",
        "colab_type": "text"
      },
      "source": [
        "Correlation Table"
      ]
    },
    {
      "cell_type": "code",
      "metadata": {
        "id": "CDtbUj_XIkRC",
        "colab_type": "code",
        "outputId": "c0a53d45-d88d-49bc-c852-99336c6d1330",
        "colab": {
          "base_uri": "https://localhost:8080/",
          "height": 225
        }
      },
      "source": [
        "quant_df.corr()"
      ],
      "execution_count": 0,
      "outputs": [
        {
          "output_type": "execute_result",
          "data": {
            "text/html": [
              "<div>\n",
              "<style scoped>\n",
              "    .dataframe tbody tr th:only-of-type {\n",
              "        vertical-align: middle;\n",
              "    }\n",
              "\n",
              "    .dataframe tbody tr th {\n",
              "        vertical-align: top;\n",
              "    }\n",
              "\n",
              "    .dataframe thead th {\n",
              "        text-align: right;\n",
              "    }\n",
              "</style>\n",
              "<table border=\"1\" class=\"dataframe\">\n",
              "  <thead>\n",
              "    <tr style=\"text-align: right;\">\n",
              "      <th></th>\n",
              "      <th>PersonalLoan</th>\n",
              "      <th>Age</th>\n",
              "      <th>Income</th>\n",
              "      <th>CCAvg</th>\n",
              "      <th>Mortgage</th>\n",
              "      <th>intercept</th>\n",
              "    </tr>\n",
              "  </thead>\n",
              "  <tbody>\n",
              "    <tr>\n",
              "      <th>PersonalLoan</th>\n",
              "      <td>1.000000</td>\n",
              "      <td>-0.007726</td>\n",
              "      <td>0.502462</td>\n",
              "      <td>0.366889</td>\n",
              "      <td>0.142095</td>\n",
              "      <td>NaN</td>\n",
              "    </tr>\n",
              "    <tr>\n",
              "      <th>Age</th>\n",
              "      <td>-0.007726</td>\n",
              "      <td>1.000000</td>\n",
              "      <td>-0.055269</td>\n",
              "      <td>-0.052012</td>\n",
              "      <td>-0.012539</td>\n",
              "      <td>NaN</td>\n",
              "    </tr>\n",
              "    <tr>\n",
              "      <th>Income</th>\n",
              "      <td>0.502462</td>\n",
              "      <td>-0.055269</td>\n",
              "      <td>1.000000</td>\n",
              "      <td>0.645984</td>\n",
              "      <td>0.206806</td>\n",
              "      <td>NaN</td>\n",
              "    </tr>\n",
              "    <tr>\n",
              "      <th>CCAvg</th>\n",
              "      <td>0.366889</td>\n",
              "      <td>-0.052012</td>\n",
              "      <td>0.645984</td>\n",
              "      <td>1.000000</td>\n",
              "      <td>0.109905</td>\n",
              "      <td>NaN</td>\n",
              "    </tr>\n",
              "    <tr>\n",
              "      <th>Mortgage</th>\n",
              "      <td>0.142095</td>\n",
              "      <td>-0.012539</td>\n",
              "      <td>0.206806</td>\n",
              "      <td>0.109905</td>\n",
              "      <td>1.000000</td>\n",
              "      <td>NaN</td>\n",
              "    </tr>\n",
              "    <tr>\n",
              "      <th>intercept</th>\n",
              "      <td>NaN</td>\n",
              "      <td>NaN</td>\n",
              "      <td>NaN</td>\n",
              "      <td>NaN</td>\n",
              "      <td>NaN</td>\n",
              "      <td>NaN</td>\n",
              "    </tr>\n",
              "  </tbody>\n",
              "</table>\n",
              "</div>"
            ],
            "text/plain": [
              "              PersonalLoan       Age    Income     CCAvg  Mortgage  intercept\n",
              "PersonalLoan      1.000000 -0.007726  0.502462  0.366889  0.142095        NaN\n",
              "Age              -0.007726  1.000000 -0.055269 -0.052012 -0.012539        NaN\n",
              "Income            0.502462 -0.055269  1.000000  0.645984  0.206806        NaN\n",
              "CCAvg             0.366889 -0.052012  0.645984  1.000000  0.109905        NaN\n",
              "Mortgage          0.142095 -0.012539  0.206806  0.109905  1.000000        NaN\n",
              "intercept              NaN       NaN       NaN       NaN       NaN        NaN"
            ]
          },
          "metadata": {
            "tags": []
          },
          "execution_count": 24
        }
      ]
    },
    {
      "cell_type": "code",
      "metadata": {
        "id": "fJDB9XUfu8Mu",
        "colab_type": "code",
        "outputId": "5a92e2ca-e997-417a-b888-3921b693a3e9",
        "colab": {
          "base_uri": "https://localhost:8080/",
          "height": 297
        }
      },
      "source": [
        "log_mod.summary()"
      ],
      "execution_count": 0,
      "outputs": [
        {
          "output_type": "execute_result",
          "data": {
            "text/html": [
              "<table class=\"simpletable\">\n",
              "<caption>Logit Regression Results</caption>\n",
              "<tr>\n",
              "  <th>Dep. Variable:</th>     <td>PersonalLoan</td>   <th>  No. Observations:  </th>   <td>  5000</td>  \n",
              "</tr>\n",
              "<tr>\n",
              "  <th>Model:</th>                 <td>Logit</td>      <th>  Df Residuals:      </th>   <td>  4995</td>  \n",
              "</tr>\n",
              "<tr>\n",
              "  <th>Method:</th>                 <td>MLE</td>       <th>  Df Model:          </th>   <td>     4</td>  \n",
              "</tr>\n",
              "<tr>\n",
              "  <th>Date:</th>            <td>Sat, 02 May 2020</td> <th>  Pseudo R-squ.:     </th>   <td>0.3657</td>  \n",
              "</tr>\n",
              "<tr>\n",
              "  <th>Time:</th>                <td>13:30:00</td>     <th>  Log-Likelihood:    </th>  <td> -1002.9</td> \n",
              "</tr>\n",
              "<tr>\n",
              "  <th>converged:</th>             <td>True</td>       <th>  LL-Null:           </th>  <td> -1581.0</td> \n",
              "</tr>\n",
              "<tr>\n",
              "  <th>Covariance Type:</th>     <td>nonrobust</td>    <th>  LLR p-value:       </th> <td>4.742e-249</td>\n",
              "</tr>\n",
              "</table>\n",
              "<table class=\"simpletable\">\n",
              "<tr>\n",
              "      <td></td>         <th>coef</th>     <th>std err</th>      <th>z</th>      <th>P>|z|</th>  <th>[0.025</th>    <th>0.975]</th>  \n",
              "</tr>\n",
              "<tr>\n",
              "  <th>intercept</th> <td>   -6.5144</td> <td>    0.308</td> <td>  -21.155</td> <td> 0.000</td> <td>   -7.118</td> <td>   -5.911</td>\n",
              "</tr>\n",
              "<tr>\n",
              "  <th>Age</th>       <td>    0.0080</td> <td>    0.005</td> <td>    1.550</td> <td> 0.121</td> <td>   -0.002</td> <td>    0.018</td>\n",
              "</tr>\n",
              "<tr>\n",
              "  <th>Income</th>    <td>    0.0351</td> <td>    0.002</td> <td>   22.313</td> <td> 0.000</td> <td>    0.032</td> <td>    0.038</td>\n",
              "</tr>\n",
              "<tr>\n",
              "  <th>CCAvg</th>     <td>    0.0688</td> <td>    0.029</td> <td>    2.409</td> <td> 0.016</td> <td>    0.013</td> <td>    0.125</td>\n",
              "</tr>\n",
              "<tr>\n",
              "  <th>Mortgage</th>  <td>    0.0007</td> <td>    0.000</td> <td>    1.757</td> <td> 0.079</td> <td>-8.49e-05</td> <td>    0.002</td>\n",
              "</tr>\n",
              "</table>"
            ],
            "text/plain": [
              "<class 'statsmodels.iolib.summary.Summary'>\n",
              "\"\"\"\n",
              "                           Logit Regression Results                           \n",
              "==============================================================================\n",
              "Dep. Variable:           PersonalLoan   No. Observations:                 5000\n",
              "Model:                          Logit   Df Residuals:                     4995\n",
              "Method:                           MLE   Df Model:                            4\n",
              "Date:                Sat, 02 May 2020   Pseudo R-squ.:                  0.3657\n",
              "Time:                        13:30:00   Log-Likelihood:                -1002.9\n",
              "converged:                       True   LL-Null:                       -1581.0\n",
              "Covariance Type:            nonrobust   LLR p-value:                4.742e-249\n",
              "==============================================================================\n",
              "                 coef    std err          z      P>|z|      [0.025      0.975]\n",
              "------------------------------------------------------------------------------\n",
              "intercept     -6.5144      0.308    -21.155      0.000      -7.118      -5.911\n",
              "Age            0.0080      0.005      1.550      0.121      -0.002       0.018\n",
              "Income         0.0351      0.002     22.313      0.000       0.032       0.038\n",
              "CCAvg          0.0688      0.029      2.409      0.016       0.013       0.125\n",
              "Mortgage       0.0007      0.000      1.757      0.079   -8.49e-05       0.002\n",
              "==============================================================================\n",
              "\"\"\""
            ]
          },
          "metadata": {
            "tags": []
          },
          "execution_count": 25
        }
      ]
    },
    {
      "cell_type": "markdown",
      "metadata": {
        "id": "KMod-cAGvFtf",
        "colab_type": "text"
      },
      "source": [
        "The bar chart of P-Values distribution and threshold line"
      ]
    },
    {
      "cell_type": "code",
      "metadata": {
        "id": "DAQA0JjcvGj-",
        "colab_type": "code",
        "outputId": "db323058-027a-4d3c-b04b-4b0c8646a182",
        "colab": {
          "base_uri": "https://localhost:8080/",
          "height": 311
        }
      },
      "source": [
        "log_mod.pvalues[1:5].plot.bar()\n",
        "plot.axhline(y = 0.05);"
      ],
      "execution_count": 0,
      "outputs": [
        {
          "output_type": "display_data",
          "data": {
            "image/png": "[encoded data removed]",
            "text/plain": [
              "<Figure size 432x288 with 1 Axes>"
            ]
          },
          "metadata": {
            "tags": []
          }
        }
      ]
    },
    {
      "cell_type": "markdown",
      "metadata": {
        "id": "cd3DAI47AuwW",
        "colab_type": "text"
      },
      "source": [
        "We can say with confidence that 'Income' and 'CCAvg' both have statisticaly significant association with 'Personal Loan', since their p-value in logistic regression is < 0.05"
      ]
    },
    {
      "cell_type": "markdown",
      "metadata": {
        "id": "BUNvHjrRBLjf",
        "colab_type": "text"
      },
      "source": [
        "The bar chart of coefficient distribution"
      ]
    },
    {
      "cell_type": "code",
      "metadata": {
        "id": "8U-m_OG0BMmh",
        "colab_type": "code",
        "outputId": "f80ebd36-6534-49fb-8778-6a860912c876",
        "colab": {
          "base_uri": "https://localhost:8080/",
          "height": 311
        }
      },
      "source": [
        "log_mod.params[1:5].plot.bar();"
      ],
      "execution_count": 0,
      "outputs": [
        {
          "output_type": "display_data",
          "data": {
            "image/png": "[encoded data removed]",
            "text/plain": [
              "<Figure size 432x288 with 1 Axes>"
            ]
          },
          "metadata": {
            "tags": []
          }
        }
      ]
    },
    {
      "cell_type": "markdown",
      "metadata": {
        "id": "7WHt7vvEBUBc",
        "colab_type": "text"
      },
      "source": [
        "'CCAvg' has strongest association with 'Personal Loan'"
      ]
    },
    {
      "cell_type": "markdown",
      "metadata": {
        "id": "bNWEto53Bczs",
        "colab_type": "text"
      },
      "source": [
        "Filter columns with P-values less than 0.05, store variables and it's coefficients into the dictionary"
      ]
    },
    {
      "cell_type": "code",
      "metadata": {
        "id": "Q4FnzqG6BVAW",
        "colab_type": "code",
        "outputId": "c4f77329-ee96-4ee8-9711-d30dd10d9229",
        "colab": {
          "base_uri": "https://localhost:8080/",
          "height": 34
        }
      },
      "source": [
        "quant_df_main = {}\n",
        "for i in log_mod.params[1:5].to_dict().keys():\n",
        "    if log_mod.pvalues[i] < 0.05:\n",
        "        quant_df_main[i] = log_mod.params[i]\n",
        "    else:\n",
        "        continue\n",
        "quant_df_main"
      ],
      "execution_count": 0,
      "outputs": [
        {
          "output_type": "execute_result",
          "data": {
            "text/plain": [
              "{'CCAvg': 0.06879676197631962, 'Income': 0.03508674970778918}"
            ]
          },
          "metadata": {
            "tags": []
          },
          "execution_count": 28
        }
      ]
    },
    {
      "cell_type": "markdown",
      "metadata": {
        "id": "I_jL1EfCBsO0",
        "colab_type": "text"
      },
      "source": [
        "Compute the odds:"
      ]
    },
    {
      "cell_type": "code",
      "metadata": {
        "id": "Zs6UC6aXBuAu",
        "colab_type": "code",
        "outputId": "f54c4e9b-1f09-4ff5-de29-42aa188cd4a8",
        "colab": {
          "base_uri": "https://localhost:8080/",
          "height": 34
        }
      },
      "source": [
        "quant_df_main_odds = {k : np.exp(v) for k, v in quant_df_main.items()}\n",
        "quant_df_main_odds"
      ],
      "execution_count": 0,
      "outputs": [
        {
          "output_type": "execute_result",
          "data": {
            "text/plain": [
              "{'CCAvg': 1.0712184746974085, 'Income': 1.0357095524036393}"
            ]
          },
          "metadata": {
            "tags": []
          },
          "execution_count": 29
        }
      ]
    },
    {
      "cell_type": "markdown",
      "metadata": {
        "id": "T8iOBJboB5_x",
        "colab_type": "text"
      },
      "source": [
        "Conclusion:\n",
        "\n",
        "'Personal Loan' has statisticaly significant association with:\n",
        "\n",
        "        'Income' : coef = 0.03508\n",
        "        'CCAvg' : coef = 0.06879\n",
        "\n",
        "Both variables are positively associated with 'Personal Loan'. As soon as both have one unit as $1000 we may say the following:\n",
        "\n",
        "        For each $1000 increase in 'Income' we expect the odds to sell Personal Loan to increase by 3.57%, holding everything else constant\n",
        "\n",
        "        For each $1000 increase in 'CCAvg' we expect the odds to sell Personal Loan to increase by 7.12%, holding everything else constant\n",
        "\n"
      ]
    },
    {
      "cell_type": "markdown",
      "metadata": {
        "id": "x7I_nNOUL5j6",
        "colab_type": "text"
      },
      "source": [
        "Let's test the hypothesis for **Family and Education**.."
      ]
    },
    {
      "cell_type": "code",
      "metadata": {
        "id": "k0qzBogHMAbZ",
        "colab_type": "code",
        "colab": {}
      },
      "source": [
        "cat_df = df[['Family', 'Education', 'PersonalLoan']].copy()"
      ],
      "execution_count": 0,
      "outputs": []
    },
    {
      "cell_type": "code",
      "metadata": {
        "id": "CYiwaISCMF09",
        "colab_type": "code",
        "outputId": "3d8d9ef7-1499-4c7b-cff6-cc97399c8eaf",
        "colab": {
          "base_uri": "https://localhost:8080/",
          "height": 136
        }
      },
      "source": [
        "cat_df.corr()"
      ],
      "execution_count": 0,
      "outputs": [
        {
          "output_type": "execute_result",
          "data": {
            "text/html": [
              "<div>\n",
              "<style scoped>\n",
              "    .dataframe tbody tr th:only-of-type {\n",
              "        vertical-align: middle;\n",
              "    }\n",
              "\n",
              "    .dataframe tbody tr th {\n",
              "        vertical-align: top;\n",
              "    }\n",
              "\n",
              "    .dataframe thead th {\n",
              "        text-align: right;\n",
              "    }\n",
              "</style>\n",
              "<table border=\"1\" class=\"dataframe\">\n",
              "  <thead>\n",
              "    <tr style=\"text-align: right;\">\n",
              "      <th></th>\n",
              "      <th>Family</th>\n",
              "      <th>Education</th>\n",
              "      <th>PersonalLoan</th>\n",
              "    </tr>\n",
              "  </thead>\n",
              "  <tbody>\n",
              "    <tr>\n",
              "      <th>Family</th>\n",
              "      <td>1.000000</td>\n",
              "      <td>0.064929</td>\n",
              "      <td>0.061367</td>\n",
              "    </tr>\n",
              "    <tr>\n",
              "      <th>Education</th>\n",
              "      <td>0.064929</td>\n",
              "      <td>1.000000</td>\n",
              "      <td>0.136722</td>\n",
              "    </tr>\n",
              "    <tr>\n",
              "      <th>PersonalLoan</th>\n",
              "      <td>0.061367</td>\n",
              "      <td>0.136722</td>\n",
              "      <td>1.000000</td>\n",
              "    </tr>\n",
              "  </tbody>\n",
              "</table>\n",
              "</div>"
            ],
            "text/plain": [
              "                Family  Education  PersonalLoan\n",
              "Family        1.000000   0.064929      0.061367\n",
              "Education     0.064929   1.000000      0.136722\n",
              "PersonalLoan  0.061367   0.136722      1.000000"
            ]
          },
          "metadata": {
            "tags": []
          },
          "execution_count": 31
        }
      ]
    },
    {
      "cell_type": "code",
      "metadata": {
        "id": "zBE4enS5X60U",
        "colab_type": "code",
        "outputId": "80dbc4fe-5645-465a-d833-44771ce6545d",
        "colab": {
          "base_uri": "https://localhost:8080/",
          "height": 67
        }
      },
      "source": [
        "cat_df.corr()['PersonalLoan'][0:2]"
      ],
      "execution_count": 0,
      "outputs": [
        {
          "output_type": "execute_result",
          "data": {
            "text/plain": [
              "Family       0.061367\n",
              "Education    0.136722\n",
              "Name: PersonalLoan, dtype: float64"
            ]
          },
          "metadata": {
            "tags": []
          },
          "execution_count": 32
        }
      ]
    },
    {
      "cell_type": "code",
      "metadata": {
        "id": "ZqXdTcwSMLHW",
        "colab_type": "code",
        "outputId": "8348bb10-ba0e-45cf-b280-6071fd7dffff",
        "colab": {
          "base_uri": "https://localhost:8080/",
          "height": 313
        }
      },
      "source": [
        "cat_df.corr()['PersonalLoan'][0:2].plot.bar();"
      ],
      "execution_count": 0,
      "outputs": [
        {
          "output_type": "display_data",
          "data": {
            "image/png": "[encoded data removed]",
            "text/plain": [
              "<Figure size 432x288 with 1 Axes>"
            ]
          },
          "metadata": {
            "tags": []
          }
        }
      ]
    },
    {
      "cell_type": "markdown",
      "metadata": {
        "id": "KpdfvPfOmj1t",
        "colab_type": "text"
      },
      "source": [
        "'Family' and 'Education' has low association with 'Personal Loan'"
      ]
    },
    {
      "cell_type": "code",
      "metadata": {
        "id": "EzvaUGzuYHNx",
        "colab_type": "code",
        "outputId": "7862c4fd-6632-4f9e-c2d4-fb2de7f87a8f",
        "colab": {
          "base_uri": "https://localhost:8080/",
          "height": 67
        }
      },
      "source": [
        "cat_df['intercept'] = 1\n",
        "log_mod = sm.Logit(cat_df['PersonalLoan'], cat_df[['intercept', 'Family', 'Education']]).fit()"
      ],
      "execution_count": 0,
      "outputs": [
        {
          "output_type": "stream",
          "text": [
            "Optimization terminated successfully.\n",
            "         Current function value: 0.305406\n",
            "         Iterations 7\n"
          ],
          "name": "stdout"
        }
      ]
    },
    {
      "cell_type": "code",
      "metadata": {
        "id": "gSsJjpxeYOGW",
        "colab_type": "code",
        "outputId": "1302158b-308d-42a3-ce53-a758546413bd",
        "colab": {
          "base_uri": "https://localhost:8080/",
          "height": 257
        }
      },
      "source": [
        "log_mod.summary()"
      ],
      "execution_count": 0,
      "outputs": [
        {
          "output_type": "execute_result",
          "data": {
            "text/html": [
              "<table class=\"simpletable\">\n",
              "<caption>Logit Regression Results</caption>\n",
              "<tr>\n",
              "  <th>Dep. Variable:</th>     <td>PersonalLoan</td>   <th>  No. Observations:  </th>  <td>  5000</td>  \n",
              "</tr>\n",
              "<tr>\n",
              "  <th>Model:</th>                 <td>Logit</td>      <th>  Df Residuals:      </th>  <td>  4997</td>  \n",
              "</tr>\n",
              "<tr>\n",
              "  <th>Method:</th>                 <td>MLE</td>       <th>  Df Model:          </th>  <td>     2</td>  \n",
              "</tr>\n",
              "<tr>\n",
              "  <th>Date:</th>            <td>Sat, 02 May 2020</td> <th>  Pseudo R-squ.:     </th>  <td>0.03415</td> \n",
              "</tr>\n",
              "<tr>\n",
              "  <th>Time:</th>                <td>13:30:00</td>     <th>  Log-Likelihood:    </th> <td> -1527.0</td> \n",
              "</tr>\n",
              "<tr>\n",
              "  <th>converged:</th>             <td>True</td>       <th>  LL-Null:           </th> <td> -1581.0</td> \n",
              "</tr>\n",
              "<tr>\n",
              "  <th>Covariance Type:</th>     <td>nonrobust</td>    <th>  LLR p-value:       </th> <td>3.575e-24</td>\n",
              "</tr>\n",
              "</table>\n",
              "<table class=\"simpletable\">\n",
              "<tr>\n",
              "      <td></td>         <th>coef</th>     <th>std err</th>      <th>z</th>      <th>P>|z|</th>  <th>[0.025</th>    <th>0.975]</th>  \n",
              "</tr>\n",
              "<tr>\n",
              "  <th>intercept</th> <td>   -3.7670</td> <td>    0.175</td> <td>  -21.574</td> <td> 0.000</td> <td>   -4.109</td> <td>   -3.425</td>\n",
              "</tr>\n",
              "<tr>\n",
              "  <th>Family</th>    <td>    0.1623</td> <td>    0.042</td> <td>    3.863</td> <td> 0.000</td> <td>    0.080</td> <td>    0.245</td>\n",
              "</tr>\n",
              "<tr>\n",
              "  <th>Education</th> <td>    0.5487</td> <td>    0.059</td> <td>    9.260</td> <td> 0.000</td> <td>    0.433</td> <td>    0.665</td>\n",
              "</tr>\n",
              "</table>"
            ],
            "text/plain": [
              "<class 'statsmodels.iolib.summary.Summary'>\n",
              "\"\"\"\n",
              "                           Logit Regression Results                           \n",
              "==============================================================================\n",
              "Dep. Variable:           PersonalLoan   No. Observations:                 5000\n",
              "Model:                          Logit   Df Residuals:                     4997\n",
              "Method:                           MLE   Df Model:                            2\n",
              "Date:                Sat, 02 May 2020   Pseudo R-squ.:                 0.03415\n",
              "Time:                        13:30:00   Log-Likelihood:                -1527.0\n",
              "converged:                       True   LL-Null:                       -1581.0\n",
              "Covariance Type:            nonrobust   LLR p-value:                 3.575e-24\n",
              "==============================================================================\n",
              "                 coef    std err          z      P>|z|      [0.025      0.975]\n",
              "------------------------------------------------------------------------------\n",
              "intercept     -3.7670      0.175    -21.574      0.000      -4.109      -3.425\n",
              "Family         0.1623      0.042      3.863      0.000       0.080       0.245\n",
              "Education      0.5487      0.059      9.260      0.000       0.433       0.665\n",
              "==============================================================================\n",
              "\"\"\""
            ]
          },
          "metadata": {
            "tags": []
          },
          "execution_count": 35
        }
      ]
    },
    {
      "cell_type": "markdown",
      "metadata": {
        "id": "NAaLwRdpYi3E",
        "colab_type": "text"
      },
      "source": [
        "The bar chart of coefficient distribution"
      ]
    },
    {
      "cell_type": "code",
      "metadata": {
        "id": "EBzuUzYWYj0q",
        "colab_type": "code",
        "outputId": "cdc3cf1b-5d88-407a-932a-5e6352b1dcbc",
        "colab": {
          "base_uri": "https://localhost:8080/",
          "height": 313
        }
      },
      "source": [
        "log_mod.params[1:3].plot.bar();"
      ],
      "execution_count": 0,
      "outputs": [
        {
          "output_type": "display_data",
          "data": {
            "image/png": "[encoded data removed]",
            "text/plain": [
              "<Figure size 432x288 with 1 Axes>"
            ]
          },
          "metadata": {
            "tags": []
          }
        }
      ]
    },
    {
      "cell_type": "markdown",
      "metadata": {
        "id": "16b34RKqYtry",
        "colab_type": "text"
      },
      "source": [
        "'Education' has strongest association with 'Personal Loan'"
      ]
    },
    {
      "cell_type": "markdown",
      "metadata": {
        "id": "S9uv9-N8YSqD",
        "colab_type": "text"
      },
      "source": [
        "We can confidently say that 'Family' and 'Education' have statisticaly significant association with 'Personal Loan', since their p-value in logistic regression is < 0.05"
      ]
    },
    {
      "cell_type": "code",
      "metadata": {
        "id": "UzTOrE_RZM8i",
        "colab_type": "code",
        "outputId": "b13ad92d-2e5a-4a68-8fb3-a3490f3c090d",
        "colab": {
          "base_uri": "https://localhost:8080/",
          "height": 34
        }
      },
      "source": [
        "cat_df_main = {}\n",
        "for i in log_mod.params[1:3].to_dict().keys():\n",
        "    if log_mod.pvalues[i] < 0.05:\n",
        "        cat_df_main[i] = log_mod.params[i]\n",
        "    else:\n",
        "        continue\n",
        "cat_df_main"
      ],
      "execution_count": 0,
      "outputs": [
        {
          "output_type": "execute_result",
          "data": {
            "text/plain": [
              "{'Education': 0.5487286631107702, 'Family': 0.16231785074803864}"
            ]
          },
          "metadata": {
            "tags": []
          },
          "execution_count": 37
        }
      ]
    },
    {
      "cell_type": "markdown",
      "metadata": {
        "id": "t5QojnKcZWoa",
        "colab_type": "text"
      },
      "source": [
        "Compute the odds"
      ]
    },
    {
      "cell_type": "code",
      "metadata": {
        "id": "w7GqTXODZXcY",
        "colab_type": "code",
        "outputId": "904c0d49-56fe-4f07-a034-b7bde52b48ea",
        "colab": {
          "base_uri": "https://localhost:8080/",
          "height": 34
        }
      },
      "source": [
        "cat_df_odds = {k : np.exp(v) for k, v in cat_df_main.items()}\n",
        "cat_df_odds"
      ],
      "execution_count": 0,
      "outputs": [
        {
          "output_type": "execute_result",
          "data": {
            "text/plain": [
              "{'Education': 1.7310508695002493, 'Family': 1.176234048782636}"
            ]
          },
          "metadata": {
            "tags": []
          },
          "execution_count": 38
        }
      ]
    },
    {
      "cell_type": "markdown",
      "metadata": {
        "id": "fxRQ_wp3ZgYx",
        "colab_type": "text"
      },
      "source": [
        "**Conclusion:**\n",
        "\n",
        "'Personal Loan' has statisticaly significant association with:\n",
        "\n",
        "        'Family' : coef = 0.16231\n",
        "        'Education' : coef = 0.54873\n",
        "\n",
        "Both variables are positively associated with 'Personal Loan'. We may say the following:\n",
        "\n",
        "        For each unit increase in 'Family' we expect the odds to sell Personal Loan to increase by 17.62%, holding everything else constant\n",
        "\n",
        "        For each unit increase in 'Education' we expect the odds to sell Personal Loan to increase by 73.11%, holding everything else constant\n",
        "\n"
      ]
    }
  ]
}